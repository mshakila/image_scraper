{
 "cells": [
  {
   "cell_type": "code",
   "execution_count": 1,
   "id": "78947df5-f332-466d-a43b-2e509d8fdfcb",
   "metadata": {},
   "outputs": [],
   "source": [
    "from IPython.core.interactiveshell import InteractiveShell\n",
    "InteractiveShell.ast_node_interactivity = \"all\""
   ]
  },
  {
   "cell_type": "code",
   "execution_count": 1,
   "id": "22c99b6e-0a47-4d8b-9e3e-ba19da8ea7bf",
   "metadata": {},
   "outputs": [],
   "source": [
    "import requests\n",
    "import logging\n",
    "import os\n",
    "from bs4 import BeautifulSoup  # to scrap from html or xml pages\n",
    "from urllib.request import urlopen # to request to server"
   ]
  },
  {
   "cell_type": "code",
   "execution_count": 20,
   "id": "fc43d25b-94a0-4fb0-b5c6-66dc0a6a4716",
   "metadata": {},
   "outputs": [],
   "source": [
    "save_dir = \"images/\"\n",
    "if not os.path.exists(save_dir):\n",
    "    os.makedirs(save_dir)"
   ]
  },
  {
   "cell_type": "code",
   "execution_count": 51,
   "id": "162615db-dcf4-40c1-822c-fe5ff979f05f",
   "metadata": {},
   "outputs": [],
   "source": [
    "query = \"yash without beard\"\n",
    "response=requests.get(f\"https://www.google.com/search?q={query}&sca_esv=69d501c9217a3f8b&udm=2&biw=1163&bih=508&sxsrf=ADLYWIJ_xKWbyB8SH32NXY1CjqEAdN8bcw%3A1716402778752&ei=WjpOZujLLZGo1e8Pzdy94A4&oq=elon&gs_lp=Egxnd3Mtd2l6LXNlcnAiBGVsb24qAggAMgQQIxgnMggQABiABBixAzIIEAAYgAQYsQMyCBAAGIAEGLEDMggQABiABBixAzIIEAAYgAQYsQMyCBAAGIAEGLEDMgUQABiABDIIEAAYgAQYsQMyCBAAGIAEGLEDSOATUABY5AdwAHgAkAEAmAGeAaAB3gSqAQMwLjS4AQPIAQD4AQGYAgSgApEFwgILEAAYgAQYsQMYgwHCAg0QABiABBixAxhDGIoFwgIKEAAYgAQYQxiKBcICDhAAGIAEGLEDGIMBGIoFmAMAkgcDMC40oAeVGg&sclient=gws-wiz-serp\")\n",
    "\n",
    "soup=BeautifulSoup(response.content, \"html.parser\")\n",
    "\n",
    "image_tags=soup.find_all(\"img\")\n",
    "del image_tags[0]\n",
    "\n",
    "for i in image_tags:\n",
    "    image_url = i[\"src\"]\n",
    "    image_data=requests.get(image_url).content\n",
    "    with open(os.path.join(save_dir, f\"{query}_{image_tags.index(i)}.jpg\"),\"wb\") as f:\n",
    "        f.write(image_data)"
   ]
  },
  {
   "cell_type": "code",
   "execution_count": 43,
   "id": "d1e0ff8d-f35f-4234-9bd6-b17779d9ea68",
   "metadata": {},
   "outputs": [],
   "source": [
    "#query = \"elon musk\"\n",
    "#query = \"puneeth rajkumar\"\n",
    "query = \"mother teresa\""
   ]
  },
  {
   "cell_type": "code",
   "execution_count": 44,
   "id": "c750143c-a0bf-40aa-8bde-83d7644a31b5",
   "metadata": {},
   "outputs": [],
   "source": [
    "response=requests.get(f\"https://www.google.com/search?q={query}&sca_esv=69d501c9217a3f8b&udm=2&biw=1163&bih=508&sxsrf=ADLYWIJ_xKWbyB8SH32NXY1CjqEAdN8bcw%3A1716402778752&ei=WjpOZujLLZGo1e8Pzdy94A4&oq=elon&gs_lp=Egxnd3Mtd2l6LXNlcnAiBGVsb24qAggAMgQQIxgnMggQABiABBixAzIIEAAYgAQYsQMyCBAAGIAEGLEDMggQABiABBixAzIIEAAYgAQYsQMyCBAAGIAEGLEDMgUQABiABDIIEAAYgAQYsQMyCBAAGIAEGLEDSOATUABY5AdwAHgAkAEAmAGeAaAB3gSqAQMwLjS4AQPIAQD4AQGYAgSgApEFwgILEAAYgAQYsQMYgwHCAg0QABiABBixAxhDGIoFwgIKEAAYgAQYQxiKBcICDhAAGIAEGLEDGIMBGIoFmAMAkgcDMC40oAeVGg&sclient=gws-wiz-serp\")"
   ]
  },
  {
   "cell_type": "code",
   "execution_count": 37,
   "id": "4c3ad0b3-dcf7-451d-87f7-0b9786f78006",
   "metadata": {},
   "outputs": [
    {
     "data": {
      "text/plain": [
       "<Response [200]>"
      ]
     },
     "execution_count": 37,
     "metadata": {},
     "output_type": "execute_result"
    }
   ],
   "source": [
    "response"
   ]
  },
  {
   "cell_type": "code",
   "execution_count": 45,
   "id": "09b4e4e3-f112-457f-bd02-7a43395f9e0a",
   "metadata": {},
   "outputs": [],
   "source": [
    "soup=BeautifulSoup(response.content, \"html.parser\")"
   ]
  },
  {
   "cell_type": "code",
   "execution_count": 25,
   "id": "cf23d0d7-b1eb-4a42-8117-fbd75bde3e1b",
   "metadata": {
    "scrolled": true
   },
   "outputs": [
    {
     "data": {
      "text/plain": [
       "<!DOCTYPE html PUBLIC \"-//WAPFORUM//DTD XHTML Mobile 1.0//EN\" \"http://www.wapforum.org/DTD/xhtml-mobile10.dtd\">\n",
       "<html lang=\"en-IN\" xmlns=\"http://www.w3.org/1999/xhtml\"><head><meta content=\"application/xhtml+xml; charset=utf-8\" http-equiv=\"Content-Type\"/><meta content=\"no-cache\" name=\"Cache-Control\"/><title>puneeth rajkumar - Google Search</title><style>a{text-decoration:none;color:inherit}a:hover{text-decoration:underline}a img{border:0}body{font-family:arial,sans-serif;padding:8px;margin:0 auto;max-width:700px;min-width:240px;}.FbhRzb{border-left:thin solid #dadce0;border-right:thin solid #dadce0;border-top:thin solid #dadce0;height:40px;overflow:hidden}.n692Zd{margin-bottom:10px}.cvifge{height:40px;border-spacing:0}.QvGUP{height:40px;padding:0 8px 0 8px;vertical-align:top}.O4cRJf{height:40px;width:100%;padding:0;padding-right:16px}.O1ePr{height:40px;padding:0;vertical-align:top}.kgJEQe{height:36px;width:98px;vertical-align:top;margin-top:4px}.lXLRf{vertical-align:top}.MhzMZd{border:0;vertical-align:middle;font-size:14px;height:40px;padding:0;width:100%;padding-left:16px}.xB0fq{height:40px;border:none;font-size:14px;background-color:#1a73e8;color:#fff;padding:0 16px;margin:0;vertical-align:top;cursor:pointer}.xB0fq:focus{border:1px solid #1a73e8}.M7pB2{border:thin solid #dadce0;margin:0 0 3px 0;font-size:13px;font-weight:500;height:40px}.euZec{width:100%;height:40px;text-align:center;border-spacing:0}table.euZec td{padding:0;width:25%}.QIqI7{display:inline-block;padding-top:4px;font-weight:bold;color:#4285f4}.EY24We{border-bottom:2px solid #4285f4}.CsQyDc{display:inline-block;color:#70757a}.TuS8Ad{font-size:14px}.HddGcc{padding:8px;color:#70757a}.dzp8ae{font-weight:bold;color:#3c4043}.rEM8G{color:#70757a}.bookcf{table-layout:fixed;width:100%;border-spacing:0}.InWNIe{text-align:center}.uZgmoc{border:thin solid #dadce0;color:#70757a;font-size:14px;text-align:center;table-layout:fixed;width:100%}.frGj1b{display:block;padding:12px 0 12px 0;width:100%}.BnJWBc{text-align:center;padding:6px 0 13px 0;height:35px}.e3goi{vertical-align:top;padding:0;height:180px}.GpQGbf{margin:auto;border-collapse:collapse;border-spacing:0;width:100%}</style></head><body><style>.X6ZCif{color:#202124;font-size:11px;line-height:16px;display:inline-block;padding-top:2px;overflow:hidden;padding-bottom:4px;width:100%}.TwVfHd{border-radius:16px;border:thin solid #dadce0;display:inline-block;padding:8px 8px;margin-right:8px;margin-bottom:4px}.yekiAe{background-color:#dadce0}.jjVJ4e{width:100%}.ezO2md{border:thin solid #dadce0;padding:12px 16px 12px 16px;margin-bottom:10px;font-family:arial,sans-serif}.lIMUZd{font-family:arial,sans-serif}.RntSmf{border-spacing:0}.lgD2Tc{width:100%}.SpelHe{text-align:center}.SpelHe{position:relative}.kCmkOe{position:relative}.kCmkOe{width:162px;height:140px;line-height:140px;overflow:'hidden';text-align:center}.DS1iW{text-align:center;margin:auto;vertical-align:middle;max-width:162px;max-height:140px}.AlD19d{padding-top:2px;padding-bottom:8px;}.fYyStc{word-break:break-word}.ynsChf{display:block;white-space:nowrap;overflow:hidden;text-overflow:ellipsis}.Fj3V3b{color:#1967d2;font-size:14px;line-height:20px}.FrIlee{color:#202124;font-size:11px;line-height:16px}.F9iS2e{color:#70757a;font-size:11px;line-height:16px}.WMQ2Le{color:#70757a;font-size:12px;line-height:16px}.x3G5ab{color:#202124;font-size:12px;line-height:16px}.fuLhoc{color:#1967d2;font-size:16px;line-height:20px}.epoveb{font-size:24px;line-height:28px;font-weight:400;color:#202124}.dXDvrc{color:#0d652d;font-size:14px;line-height:20px;word-wrap:break-word}.dloBPe{font-weight:bold}.YVIcad{color:#70757a}.JkVVdd{color:#ea4335}.oXZRFd{color:#ea4335}.MQHtg{color:#fbbc04}.pyMRrb{color:#1e8e3e}.EtTZid{color:#1e8e3e}.M3vVJe{color:#1967d2}.qXLe6d{display:block}.NHQNef{font-style:italic}.Cb8Z7c{white-space:pre}a.ZWRArf{text-decoration:none}a .CVA68e:hover{text-decoration:underline}</style><div class=\"n692Zd\"><div class=\"BnJWBc\"><a class=\"lXLRf\" href=\"/?sca_esv=69d501c9217a3f8b&amp;biw=1163&amp;bih=508&amp;output=images&amp;ie=UTF-8&amp;tbm=isch&amp;sa=X&amp;ved=0ahUKEwiu4ebb1KKGAxUb2zgGHRkjCmQQPAgC\"><img alt=\"Google\" class=\"kgJEQe\" src=\"/images/branding/searchlogo/1x/googlelogo_desk_heirloom_color_150x55dp.gif\"/></a></div><div class=\"FbhRzb\"><form action=\"/search\"><input name=\"sca_esv\" type=\"hidden\" value=\"69d501c9217a3f8b\"/><input name=\"biw\" type=\"hidden\" value=\"1163\"/><input name=\"bih\" type=\"hidden\" value=\"508\"/><input name=\"ie\" type=\"hidden\" value=\"ISO-8859-1\"/><input name=\"tbm\" type=\"hidden\" value=\"isch\"/><input name=\"oq\" type=\"hidden\"/><input name=\"aqs\" type=\"hidden\"/><table class=\"cvifge\"><tr><td class=\"O4cRJf\"><input class=\"MhzMZd\" name=\"q\" type=\"text\" value=\"puneeth rajkumar\"/></td><td class=\"O1ePr\"><input class=\"xB0fq\" type=\"submit\" value=\"Search\"/></td></tr></table></form></div><div class=\"M7pB2\"><table class=\"euZec\"><tbody><tr><td><a class=\"CsQyDc\" href=\"/search?q=puneeth+rajkumar&amp;sca_esv=69d501c9217a3f8b&amp;biw=1163&amp;bih=508&amp;ie=UTF-8&amp;source=lnms&amp;sa=X&amp;ved=0ahUKEwiu4ebb1KKGAxUb2zgGHRkjCmQQ_AUIBCgA\">ALL</a></td><td class=\"EY24We\"><span class=\"QIqI7\">IMAGES</span></td><td><a class=\"CsQyDc\" href=\"/search?q=puneeth+rajkumar&amp;sca_esv=69d501c9217a3f8b&amp;biw=1163&amp;bih=508&amp;ie=UTF-8&amp;tbm=nws&amp;source=lnms&amp;sa=X&amp;ved=0ahUKEwiu4ebb1KKGAxUb2zgGHRkjCmQQ_AUIBigC\">NEWS</a></td><td><a class=\"CsQyDc\" href=\"/search?q=puneeth+rajkumar&amp;sca_esv=69d501c9217a3f8b&amp;biw=1163&amp;bih=508&amp;ie=UTF-8&amp;tbm=vid&amp;source=lnms&amp;sa=X&amp;ved=0ahUKEwiu4ebb1KKGAxUb2zgGHRkjCmQQ_AUIBygD\">VIDEOS</a></td></tr></tbody></table></div></div><div class=\"X6ZCif\"><a class=\"TwVfHd\" href=\"/search?sca_esv=69d501c9217a3f8b&amp;biw=1163&amp;bih=508&amp;ie=UTF-8&amp;tbm=isch&amp;q=puneeth+rajkumar&amp;chips=q:puneeth+rajkumar,g_1:wallpaper&amp;sa=X&amp;ved=0ahUKEwiu4ebb1KKGAxUb2zgGHRkjCmQQ4lYICygA\">wallpaper</a><a class=\"TwVfHd\" href=\"/search?sca_esv=69d501c9217a3f8b&amp;biw=1163&amp;bih=508&amp;ie=UTF-8&amp;tbm=isch&amp;q=puneeth+rajkumar&amp;chips=q:puneeth+rajkumar,g_1:drawing&amp;sa=X&amp;ved=0ahUKEwiu4ebb1KKGAxUb2zgGHRkjCmQQ4lYIDCgB\">drawing</a><a class=\"TwVfHd\" href=\"/search?sca_esv=69d501c9217a3f8b&amp;biw=1163&amp;bih=508&amp;ie=UTF-8&amp;tbm=isch&amp;q=puneeth+rajkumar&amp;chips=q:puneeth+rajkumar,g_1:new&amp;sa=X&amp;ved=0ahUKEwiu4ebb1KKGAxUb2zgGHRkjCmQQ4lYIDSgC\">new</a><a class=\"TwVfHd\" href=\"/search?sca_esv=69d501c9217a3f8b&amp;biw=1163&amp;bih=508&amp;ie=UTF-8&amp;tbm=isch&amp;q=puneeth+rajkumar&amp;chips=q:puneeth+rajkumar,g_1:power&amp;sa=X&amp;ved=0ahUKEwiu4ebb1KKGAxUb2zgGHRkjCmQQ4lYIDigD\">power</a><a class=\"TwVfHd\" href=\"/search?sca_esv=69d501c9217a3f8b&amp;biw=1163&amp;bih=508&amp;ie=UTF-8&amp;tbm=isch&amp;q=puneeth+rajkumar&amp;chips=q:puneeth+rajkumar,g_1:movie&amp;sa=X&amp;ved=0ahUKEwiu4ebb1KKGAxUb2zgGHRkjCmQQ4lYIDygE\">movie</a><a class=\"TwVfHd\" href=\"/search?sca_esv=69d501c9217a3f8b&amp;biw=1163&amp;bih=508&amp;ie=UTF-8&amp;tbm=isch&amp;q=puneeth+rajkumar&amp;chips=q:puneeth+rajkumar,g_1:style&amp;sa=X&amp;ved=0ahUKEwiu4ebb1KKGAxUb2zgGHRkjCmQQ4lYIECgF\">style</a><a class=\"TwVfHd\" href=\"/search?sca_esv=69d501c9217a3f8b&amp;biw=1163&amp;bih=508&amp;ie=UTF-8&amp;tbm=isch&amp;q=puneeth+rajkumar&amp;chips=q:puneeth+rajkumar,g_1:happy+birthday&amp;sa=X&amp;ved=0ahUKEwiu4ebb1KKGAxUb2zgGHRkjCmQQ4lYIESgG\">happy birthday</a><a class=\"TwVfHd\" href=\"/search?sca_esv=69d501c9217a3f8b&amp;biw=1163&amp;bih=508&amp;ie=UTF-8&amp;tbm=isch&amp;q=puneeth+rajkumar&amp;chips=q:puneeth+rajkumar,g_1:poster&amp;sa=X&amp;ved=0ahUKEwiu4ebb1KKGAxUb2zgGHRkjCmQQ4lYIEigH\">poster</a><a class=\"TwVfHd\" href=\"/search?sca_esv=69d501c9217a3f8b&amp;biw=1163&amp;bih=508&amp;ie=UTF-8&amp;tbm=isch&amp;q=puneeth+rajkumar&amp;chips=q:puneeth+rajkumar,g_1:actor&amp;sa=X&amp;ved=0ahUKEwiu4ebb1KKGAxUb2zgGHRkjCmQQ4lYIEygI\">actor</a><a class=\"TwVfHd\" href=\"/search?sca_esv=69d501c9217a3f8b&amp;biw=1163&amp;bih=508&amp;ie=UTF-8&amp;tbm=isch&amp;q=puneeth+rajkumar&amp;chips=q:puneeth+rajkumar,g_1:photography&amp;sa=X&amp;ved=0ahUKEwiu4ebb1KKGAxUb2zgGHRkjCmQQ4lYIFCgJ\">photography</a></div><div><table class=\"GpQGbf\"><tr><td align=\"center\" class=\"e3goi\"><div class=\"jjVJ4e\"> <div> <div class=\"lIMUZd\"><div><table class=\"RntSmf\"><tr><td><a href=\"/url?q=https://in.pinterest.com/pin/puneeth-rajkumar--203365739415312616/&amp;sa=U&amp;ved=2ahUKEwiu4ebb1KKGAxUb2zgGHRkjCmQQqoUBegQIAhAB&amp;usg=AOvVaw2oIDo91Pj1Kn_gLzbzS-zZ\"><div class=\"kCmkOe\"><img alt=\"\" class=\"DS1iW\" src=\"https://encrypted-tbn0.gstatic.com/images?q=tbn:ANd9GcTvb1djW7sunucO7FNZI6-vdDC92unDpcA8Jc9XsnbpGnzEFvmU-xLBmfECf6k&amp;s\"/></div></a></td></tr><tr><td><a href=\"/url?q=https://in.pinterest.com/pin/puneeth-rajkumar--203365739415312616/&amp;sa=U&amp;ved=2ahUKEwiu4ebb1KKGAxUb2zgGHRkjCmQQr4kDegQIAhAC&amp;usg=AOvVaw0eNnGnzzwUZJsLW0IA0Enk\"><div class=\"AlD19d\"> <span class=\"qXLe6d x3G5ab\"> <span class=\"fYyStc\">Puneeth Rajkumar</span> </span> <span class=\"qXLe6d F9iS2e\"> <span class=\"fYyStc\">in.pinterest.com</span> </span> </div></a></td></tr></table></div></div> </div> </div></td><td align=\"center\" class=\"e3goi\"><div class=\"jjVJ4e\"> <div> <div class=\"lIMUZd\"><div><table class=\"RntSmf\"><tr><td><a href=\"/url?q=https://www.facebook.com/PuneethRajkumar/&amp;sa=U&amp;ved=2ahUKEwiu4ebb1KKGAxUb2zgGHRkjCmQQqoUBegQIExAB&amp;usg=AOvVaw201quAJB8tJcBuOzwOifn1\"><div class=\"kCmkOe\"><img alt=\"\" class=\"DS1iW\" src=\"https://encrypted-tbn0.gstatic.com/images?q=tbn:ANd9GcTahgoCmPGGbxrpIq6IWMVcrGvs-48oyN3UgtgMpIz9nL9V0HadYUNVYN-BSsg&amp;s\"/></div></a></td></tr><tr><td><a href=\"/url?q=https://www.facebook.com/PuneethRajkumar/&amp;sa=U&amp;ved=2ahUKEwiu4ebb1KKGAxUb2zgGHRkjCmQQr4kDegQIExAC&amp;usg=AOvVaw15_aG5hjVHdcib2OUqelOe\"><div class=\"AlD19d\"> <span class=\"qXLe6d x3G5ab\"> <span class=\"fYyStc\">Puneeth Rajkumar</span> </span> <span class=\"qXLe6d F9iS2e\"> <span class=\"fYyStc\">www.facebook.com</span> </span> </div></a></td></tr></table></div></div> </div> </div></td><td align=\"center\" class=\"e3goi\"><div class=\"jjVJ4e\"> <div> <div class=\"lIMUZd\"><div><table class=\"RntSmf\"><tr><td><a href=\"/url?q=https://www.flipkart.com/poster-superstar-puneeth-rajkumar-sl-16442-wall-poster-13x19-inches-matt-paper-fine-art-print/p/itmc26d7338797f4%3Fpid%3DPOSGHUSGJ93ANUEY%26lid%3DLSTPOSGHUSGJ93ANUEYLU5V1K%26marketplace%3DFLIPKART%26cmpid%3Dcontent_poster_8965229628_gmc&amp;sa=U&amp;ved=2ahUKEwiu4ebb1KKGAxUb2zgGHRkjCmQQqoUBegQIEhAB&amp;usg=AOvVaw32HmX89SDXsNyI76qdo9MI\"><div class=\"kCmkOe\"><img alt=\"\" class=\"DS1iW\" src=\"https://encrypted-tbn0.gstatic.com/images?q=tbn:ANd9GcS4ujm4_dxnXj2WYZvt8yHT-m-oz9HY08t-oiJFldi5vL3W4EFQkKBvQlt9yz8&amp;s\"/></div></a></td></tr><tr><td><a href=\"/url?q=https://www.flipkart.com/poster-superstar-puneeth-rajkumar-sl-16442-wall-poster-13x19-inches-matt-paper-fine-art-print/p/itmc26d7338797f4%3Fpid%3DPOSGHUSGJ93ANUEY%26lid%3DLSTPOSGHUSGJ93ANUEYLU5V1K%26marketplace%3DFLIPKART%26cmpid%3Dcontent_poster_8965229628_gmc&amp;sa=U&amp;ved=2ahUKEwiu4ebb1KKGAxUb2zgGHRkjCmQQr4kDegQIEhAC&amp;usg=AOvVaw1QwZO7xgkw3ldXVyVQGShy\"><div class=\"AlD19d\"> <span class=\"qXLe6d x3G5ab\"> <span class=\"fYyStc\">Poster Superstar Puneeth...</span> </span> <span class=\"qXLe6d F9iS2e\"> <span class=\"fYyStc\">www.flipkart.com</span> </span> </div></a></td></tr></table></div></div> </div> </div></td><td align=\"center\" class=\"e3goi\"><div class=\"jjVJ4e\"> <div> <div class=\"lIMUZd\"><div><table class=\"RntSmf\"><tr><td><a href=\"/url?q=https://www.amazon.in/Framtastic-Punith-Rajkumar-Photo-Laminated/dp/B09X1YX8HX&amp;sa=U&amp;ved=2ahUKEwiu4ebb1KKGAxUb2zgGHRkjCmQQqoUBegQICxAB&amp;usg=AOvVaw3xLSAD4pSv2znwG8sx8bGf\"><div class=\"kCmkOe\"><img alt=\"\" class=\"DS1iW\" src=\"https://encrypted-tbn0.gstatic.com/images?q=tbn:ANd9GcRRYkj9YbN8dh2qTh78M7LqmWms2gWfA0z1YCvt9vib-pptXeaqJ6iQO_WH_WM&amp;s\"/></div></a></td></tr><tr><td><a href=\"/url?q=https://www.amazon.in/Framtastic-Punith-Rajkumar-Photo-Laminated/dp/B09X1YX8HX&amp;sa=U&amp;ved=2ahUKEwiu4ebb1KKGAxUb2zgGHRkjCmQQr4kDegQICxAC&amp;usg=AOvVaw1PZ7QcOxMI9lsVZVuae0sa\"><div class=\"AlD19d\"> <span class=\"qXLe6d x3G5ab\"> <span class=\"fYyStc\">Wood Framtastic Punith...</span> </span> <span class=\"qXLe6d F9iS2e\"> <span class=\"fYyStc\">www.amazon.in</span> </span> </div></a></td></tr></table></div></div> </div> </div></td></tr><tr><td align=\"center\" class=\"e3goi\"><div class=\"jjVJ4e\"> <div> <div class=\"lIMUZd\"><div><table class=\"RntSmf\"><tr><td><a href=\"/url?q=https://economictimes.indiatimes.com/magazines/panache/web-stories/on-puneeth-rajkumars-48th-birth-anniversary-remembering-the-power-star-of-sandalwood/slideshow/98690644.cms&amp;sa=U&amp;ved=2ahUKEwiu4ebb1KKGAxUb2zgGHRkjCmQQqoUBegQIEBAB&amp;usg=AOvVaw0s5Zh2Fb-QJp490KMJB7nh\"><div class=\"kCmkOe\"><img alt=\"\" class=\"DS1iW\" src=\"https://encrypted-tbn0.gstatic.com/images?q=tbn:ANd9GcTLgu2QS3KZs0ZNn4Ol8b0McBE3CUlDsWMtdVA6fAr6qqWlXlBAyTrT4phMmRo&amp;s\"/></div></a></td></tr><tr><td><a href=\"/url?q=https://economictimes.indiatimes.com/magazines/panache/web-stories/on-puneeth-rajkumars-48th-birth-anniversary-remembering-the-power-star-of-sandalwood/slideshow/98690644.cms&amp;sa=U&amp;ved=2ahUKEwiu4ebb1KKGAxUb2zgGHRkjCmQQr4kDegQIEBAC&amp;usg=AOvVaw3Xj2mmQTAZzElsHgbUsVC0\"><div class=\"AlD19d\"> <span class=\"qXLe6d x3G5ab\"> <span class=\"fYyStc\">Puneeth Rajkumar Birth...</span> </span> <span class=\"qXLe6d F9iS2e\"> <span class=\"fYyStc\">economictimes.indiatimes.co...</span> </span> </div></a></td></tr></table></div></div> </div> </div></td><td align=\"center\" class=\"e3goi\"><div class=\"jjVJ4e\"> <div> <div class=\"lIMUZd\"><div><table class=\"RntSmf\"><tr><td><a href=\"/url?q=https://www.amazon.in/POSTERMAL-Superstar-Puneeth-Rajkumar-Multicolor/dp/B0BW7J6TSG&amp;sa=U&amp;ved=2ahUKEwiu4ebb1KKGAxUb2zgGHRkjCmQQqoUBegQIChAB&amp;usg=AOvVaw0epWkUaldJDtR8TXAojLhA\"><div class=\"kCmkOe\"><img alt=\"\" class=\"DS1iW\" src=\"https://encrypted-tbn0.gstatic.com/images?q=tbn:ANd9GcRSFUf_EnybLeTBdE9YLOK3FZE5dzWUie2g8bFCTyY-hggamO_LC1jt23Xvgg&amp;s\"/></div></a></td></tr><tr><td><a href=\"/url?q=https://www.amazon.in/POSTERMAL-Superstar-Puneeth-Rajkumar-Multicolor/dp/B0BW7J6TSG&amp;sa=U&amp;ved=2ahUKEwiu4ebb1KKGAxUb2zgGHRkjCmQQr4kDegQIChAC&amp;usg=AOvVaw1cNkfpsknCTFgztq68xpBD\"><div class=\"AlD19d\"> <span class=\"qXLe6d x3G5ab\"> <span class=\"fYyStc\">POSTERMAL Poster Superstar...</span> </span> <span class=\"qXLe6d F9iS2e\"> <span class=\"fYyStc\">www.amazon.in</span> </span> </div></a></td></tr></table></div></div> </div> </div></td><td align=\"center\" class=\"e3goi\"><div class=\"jjVJ4e\"> <div> <div class=\"lIMUZd\"><div><table class=\"RntSmf\"><tr><td><a href=\"/url?q=https://www.hindustantimes.com/entertainment/others/puneeth-rajkumar-birth-anniversary-shiva-rajkumar-rishab-shetty-kichcha-sudeep-remember-late-actor-101710669566270.html&amp;sa=U&amp;ved=2ahUKEwiu4ebb1KKGAxUb2zgGHRkjCmQQqoUBegQIERAB&amp;usg=AOvVaw0T6qAF-qIIkIBgfGMhkhS0\"><div class=\"kCmkOe\"><img alt=\"\" class=\"DS1iW\" src=\"https://encrypted-tbn0.gstatic.com/images?q=tbn:ANd9GcRne3JWV3GHXx1wZY9UnBjoebt7WYChRWGAz-MXYXrnAcSYx3WWAKpK1wfimQ&amp;s\"/></div></a></td></tr><tr><td><a href=\"/url?q=https://www.hindustantimes.com/entertainment/others/puneeth-rajkumar-birth-anniversary-shiva-rajkumar-rishab-shetty-kichcha-sudeep-remember-late-actor-101710669566270.html&amp;sa=U&amp;ved=2ahUKEwiu4ebb1KKGAxUb2zgGHRkjCmQQr4kDegQIERAC&amp;usg=AOvVaw1XDHwwVuqp_CK-2wqaSd95\"><div class=\"AlD19d\"> <span class=\"qXLe6d x3G5ab\"> <span class=\"fYyStc\">Puneeth Rajkumar birth...</span> </span> <span class=\"qXLe6d F9iS2e\"> <span class=\"fYyStc\">www.hindustantimes.com</span> </span> </div></a></td></tr></table></div></div> </div> </div></td><td align=\"center\" class=\"e3goi\"><div class=\"jjVJ4e\"> <div> <div class=\"lIMUZd\"><div><table class=\"RntSmf\"><tr><td><a href=\"/url?q=https://www.peakpx.com/en/hd-wallpaper-desktop-warsp&amp;sa=U&amp;ved=2ahUKEwiu4ebb1KKGAxUb2zgGHRkjCmQQqoUBegQIDxAB&amp;usg=AOvVaw2havnhD_Db22p6SIt5P04J\"><div class=\"kCmkOe\"><img alt=\"\" class=\"DS1iW\" src=\"https://encrypted-tbn0.gstatic.com/images?q=tbn:ANd9GcSbYNOBx3RhXEF5d6cYEQc8mWN2yk3pxclypU4qpAxjbBFxqYLh0iiPNjcfkMI&amp;s\"/></div></a></td></tr><tr><td><a href=\"/url?q=https://www.peakpx.com/en/hd-wallpaper-desktop-warsp&amp;sa=U&amp;ved=2ahUKEwiu4ebb1KKGAxUb2zgGHRkjCmQQr4kDegQIDxAC&amp;usg=AOvVaw06ws6JhgKTr6muzhcFFB8R\"><div class=\"AlD19d\"> <span class=\"qXLe6d x3G5ab\"> <span class=\"fYyStc\">Puneeth Rajkumar, White...</span> </span> <span class=\"qXLe6d F9iS2e\"> <span class=\"fYyStc\">www.peakpx.com</span> </span> </div></a></td></tr></table></div></div> </div> </div></td></tr><tr><td align=\"center\" class=\"e3goi\"><div class=\"jjVJ4e\"> <div> <div class=\"lIMUZd\"><div><table class=\"RntSmf\"><tr><td><a href=\"/url?q=https://en.wikipedia.org/wiki/Puneeth_Rajkumar&amp;sa=U&amp;ved=2ahUKEwiu4ebb1KKGAxUb2zgGHRkjCmQQqoUBegQICRAB&amp;usg=AOvVaw1T6prNBARccTY_cjsoqFT3\"><div class=\"kCmkOe\"><img alt=\"\" class=\"DS1iW\" src=\"https://encrypted-tbn0.gstatic.com/images?q=tbn:ANd9GcTlCQDJo8JEqplrMCU3zfwc8JONF3d5V2FSTZgIURVQkPeyc0caK1N70c3AQZM&amp;s\"/></div></a></td></tr><tr><td><a href=\"/url?q=https://en.wikipedia.org/wiki/Puneeth_Rajkumar&amp;sa=U&amp;ved=2ahUKEwiu4ebb1KKGAxUb2zgGHRkjCmQQr4kDegQICRAC&amp;usg=AOvVaw0KOp_GXoXEjxq5Hq2eYLCS\"><div class=\"AlD19d\"> <span class=\"qXLe6d x3G5ab\"> <span class=\"fYyStc\">Puneeth Rajkumar -...</span> </span> <span class=\"qXLe6d F9iS2e\"> <span class=\"fYyStc\">en.wikipedia.org</span> </span> </div></a></td></tr></table></div></div> </div> </div></td><td align=\"center\" class=\"e3goi\"><div class=\"jjVJ4e\"> <div> <div class=\"lIMUZd\"><div><table class=\"RntSmf\"><tr><td><a href=\"/url?q=https://www.filmibeat.com/celebs/puneeth-rajkumar.html&amp;sa=U&amp;ved=2ahUKEwiu4ebb1KKGAxUb2zgGHRkjCmQQqoUBegQIDBAB&amp;usg=AOvVaw3ZWFOuCiwany8c-hvuAYVF\"><div class=\"kCmkOe\"><img alt=\"\" class=\"DS1iW\" src=\"https://encrypted-tbn0.gstatic.com/images?q=tbn:ANd9GcTtydCnDfgA-jC_sRIedZtVqEXig0dIsgnTHJMaTlivpzchr2Oehn3Iio9Ty1E&amp;s\"/></div></a></td></tr><tr><td><a href=\"/url?q=https://www.filmibeat.com/celebs/puneeth-rajkumar.html&amp;sa=U&amp;ved=2ahUKEwiu4ebb1KKGAxUb2zgGHRkjCmQQr4kDegQIDBAC&amp;usg=AOvVaw0AZ01dxubYllMULGu2ikNg\"><div class=\"AlD19d\"> <span class=\"qXLe6d x3G5ab\"> <span class=\"fYyStc\">Puneeth Rajkumar (Power...</span> </span> <span class=\"qXLe6d F9iS2e\"> <span class=\"fYyStc\">www.filmibeat.com</span> </span> </div></a></td></tr></table></div></div> </div> </div></td><td align=\"center\" class=\"e3goi\"><div class=\"jjVJ4e\"> <div> <div class=\"lIMUZd\"><div><table class=\"RntSmf\"><tr><td><a href=\"/url?q=https://www.themoviedb.org/person/1333328-puneeth-rajkumar/images/profiles&amp;sa=U&amp;ved=2ahUKEwiu4ebb1KKGAxUb2zgGHRkjCmQQqoUBegQIDRAB&amp;usg=AOvVaw1dYg2E_rA6v_FLgO-jFxyw\"><div class=\"kCmkOe\"><img alt=\"\" class=\"DS1iW\" src=\"https://encrypted-tbn0.gstatic.com/images?q=tbn:ANd9GcRyo2pFDPuJGAJvA5bSn3LjO0YGx4QZzsxz1MPpC2qJ_z6L3oskODgUKpIbluc&amp;s\"/></div></a></td></tr><tr><td><a href=\"/url?q=https://www.themoviedb.org/person/1333328-puneeth-rajkumar/images/profiles&amp;sa=U&amp;ved=2ahUKEwiu4ebb1KKGAxUb2zgGHRkjCmQQr4kDegQIDRAC&amp;usg=AOvVaw3FjZjEddIxcQkgh3RiXCJT\"><div class=\"AlD19d\"> <span class=\"qXLe6d x3G5ab\"> <span class=\"fYyStc\">Puneeth Rajkumar - Profile...</span> </span> <span class=\"qXLe6d F9iS2e\"> <span class=\"fYyStc\">www.themoviedb.org</span> </span> </div></a></td></tr></table></div></div> </div> </div></td><td align=\"center\" class=\"e3goi\"><div class=\"jjVJ4e\"> <div> <div class=\"lIMUZd\"><div><table class=\"RntSmf\"><tr><td><a href=\"/url?q=https://www.pinterest.com/pin/764486105488523334/&amp;sa=U&amp;ved=2ahUKEwiu4ebb1KKGAxUb2zgGHRkjCmQQqoUBegQIDhAB&amp;usg=AOvVaw2-eedVfVMRLwGOtq9AeIVl\"><div class=\"kCmkOe\"><img alt=\"\" class=\"DS1iW\" src=\"https://encrypted-tbn0.gstatic.com/images?q=tbn:ANd9GcQxzN6WoT2ch2foZQf60QBXSqTCG91E9WMrw2bGIH775gzSt2FR5WH5lQ6DuQ&amp;s\"/></div></a></td></tr><tr><td><a href=\"/url?q=https://www.pinterest.com/pin/764486105488523334/&amp;sa=U&amp;ved=2ahUKEwiu4ebb1KKGAxUb2zgGHRkjCmQQr4kDegQIDhAC&amp;usg=AOvVaw2TkjohkSCPXwb082ZFNgOH\"><div class=\"AlD19d\"> <span class=\"qXLe6d x3G5ab\"> <span class=\"fYyStc\">Puneet Rajkumar HD image |...</span> </span> <span class=\"qXLe6d F9iS2e\"> <span class=\"fYyStc\">www.pinterest.com</span> </span> </div></a></td></tr></table></div></div> </div> </div></td></tr><tr><td align=\"center\" class=\"e3goi\"><div class=\"jjVJ4e\"> <div> <div class=\"lIMUZd\"><div><table class=\"RntSmf\"><tr><td><a href=\"/url?q=https://wallpapers.com/wallpapers/puneeth-rajkumar-background-smiling-96xucuwjp4dw6s7j.html&amp;sa=U&amp;ved=2ahUKEwiu4ebb1KKGAxUb2zgGHRkjCmQQqoUBegQIAxAB&amp;usg=AOvVaw23f79zIpEt4suT0SM-HKXK\"><div class=\"kCmkOe\"><img alt=\"\" class=\"DS1iW\" src=\"https://encrypted-tbn0.gstatic.com/images?q=tbn:ANd9GcSeHeafYpESYEIKDkM4L_lE8TW1jfyMTKxnIniP1IbHCZKcGTYEia5ByfY78w&amp;s\"/></div></a></td></tr><tr><td><a href=\"/url?q=https://wallpapers.com/wallpapers/puneeth-rajkumar-background-smiling-96xucuwjp4dw6s7j.html&amp;sa=U&amp;ved=2ahUKEwiu4ebb1KKGAxUb2zgGHRkjCmQQr4kDegQIAxAC&amp;usg=AOvVaw2YNS8Z0XbEEa1BJdZSdL3B\"><div class=\"AlD19d\"> <span class=\"qXLe6d x3G5ab\"> <span class=\"fYyStc\">Download Puneeth Rajkumar...</span> </span> <span class=\"qXLe6d F9iS2e\"> <span class=\"fYyStc\">wallpapers.com</span> </span> </div></a></td></tr></table></div></div> </div> </div></td><td align=\"center\" class=\"e3goi\"><div class=\"jjVJ4e\"> <div> <div class=\"lIMUZd\"><div><table class=\"RntSmf\"><tr><td><a href=\"/url?q=https://www.indiatvnews.com/entertainment/celebrities/puneeth-rajkumar-s-charitable-efforts-find-mention-in-karnataka-university-course-latest-celeb-news-2022-12-22-833369&amp;sa=U&amp;ved=2ahUKEwiu4ebb1KKGAxUb2zgGHRkjCmQQqoUBegQIABAB&amp;usg=AOvVaw1f7enDf1fyxeFFqCih1lOt\"><div class=\"kCmkOe\"><img alt=\"\" class=\"DS1iW\" src=\"https://encrypted-tbn0.gstatic.com/images?q=tbn:ANd9GcQlDXWLfu6YCVKsaNCbtw3OOKyl3quUsE10j7OTDvEIWwLbtTtNxbQ0IHAHFIA&amp;s\"/></div></a></td></tr><tr><td><a href=\"/url?q=https://www.indiatvnews.com/entertainment/celebrities/puneeth-rajkumar-s-charitable-efforts-find-mention-in-karnataka-university-course-latest-celeb-news-2022-12-22-833369&amp;sa=U&amp;ved=2ahUKEwiu4ebb1KKGAxUb2zgGHRkjCmQQr4kDegQIABAC&amp;usg=AOvVaw20X0aq-pSJM2_5qhQlqVoK\"><div class=\"AlD19d\"> <span class=\"qXLe6d x3G5ab\"> <span class=\"fYyStc\">Puneeth Rajkumar's...</span> </span> <span class=\"qXLe6d F9iS2e\"> <span class=\"fYyStc\">www.indiatvnews.com</span> </span> </div></a></td></tr></table></div></div> </div> </div></td><td align=\"center\" class=\"e3goi\"><div class=\"jjVJ4e\"> <div> <div class=\"lIMUZd\"><div><table class=\"RntSmf\"><tr><td><a href=\"/url?q=https://indianexpress.com/article/entertainment/regional/on-puneeth-rajkumars-birth-anniversary-kannada-celebrities-and-loved-ones-remember-their-appu-you-will-always-be-missed-9219425/&amp;sa=U&amp;ved=2ahUKEwiu4ebb1KKGAxUb2zgGHRkjCmQQqoUBegQIBBAB&amp;usg=AOvVaw0_in5c5kRjmS9icZe2Huyo\"><div class=\"kCmkOe\"><img alt=\"\" class=\"DS1iW\" src=\"https://encrypted-tbn0.gstatic.com/images?q=tbn:ANd9GcSiUHEcpufZ1GF34Q_mUGc1wgBy1QIQdNt_0VZf1h2eZIc9LeTVDVtZCiVo2A&amp;s\"/></div></a></td></tr><tr><td><a href=\"/url?q=https://indianexpress.com/article/entertainment/regional/on-puneeth-rajkumars-birth-anniversary-kannada-celebrities-and-loved-ones-remember-their-appu-you-will-always-be-missed-9219425/&amp;sa=U&amp;ved=2ahUKEwiu4ebb1KKGAxUb2zgGHRkjCmQQr4kDegQIBBAC&amp;usg=AOvVaw1Yz9vT0xafa8ixR5wEbSb8\"><div class=\"AlD19d\"> <span class=\"qXLe6d x3G5ab\"> <span class=\"fYyStc\">On Puneeth Rajkumar's birth...</span> </span> <span class=\"qXLe6d F9iS2e\"> <span class=\"fYyStc\">indianexpress.com</span> </span> </div></a></td></tr></table></div></div> </div> </div></td><td align=\"center\" class=\"e3goi\"><div class=\"jjVJ4e\"> <div> <div class=\"lIMUZd\"><div><table class=\"RntSmf\"><tr><td><a href=\"/url?q=https://www.news9live.com/entertainment/regional-cinema/puneeth-rajkumar-death-anniversary-hd-images-status-and-wallpapers-of-appu-2334277&amp;sa=U&amp;ved=2ahUKEwiu4ebb1KKGAxUb2zgGHRkjCmQQqoUBegQIBhAB&amp;usg=AOvVaw3OQG-aALGT1pT2zlZBlOcV\"><div class=\"kCmkOe\"><img alt=\"\" class=\"DS1iW\" src=\"https://encrypted-tbn0.gstatic.com/images?q=tbn:ANd9GcQ_kFiBKjoNDOt7cVB0mcKuYhFYz2Oi2j_yVZf6_U1-y0IAHMho68M0ucoehQ&amp;s\"/></div></a></td></tr><tr><td><a href=\"/url?q=https://www.news9live.com/entertainment/regional-cinema/puneeth-rajkumar-death-anniversary-hd-images-status-and-wallpapers-of-appu-2334277&amp;sa=U&amp;ved=2ahUKEwiu4ebb1KKGAxUb2zgGHRkjCmQQr4kDegQIBhAC&amp;usg=AOvVaw3Z4DXRAxSGXkiDioTZ24Gl\"><div class=\"AlD19d\"> <span class=\"qXLe6d x3G5ab\"> <span class=\"fYyStc\">Puneeth Rajkumar death...</span> </span> <span class=\"qXLe6d F9iS2e\"> <span class=\"fYyStc\">www.news9live.com</span> </span> </div></a></td></tr></table></div></div> </div> </div></td></tr><tr><td align=\"center\" class=\"e3goi\"><div class=\"jjVJ4e\"> <div> <div class=\"lIMUZd\"><div><table class=\"RntSmf\"><tr><td><a href=\"/url?q=https://www.filmibeat.com/wallpapers/puneeth-rajkumar-35135.html&amp;sa=U&amp;ved=2ahUKEwiu4ebb1KKGAxUb2zgGHRkjCmQQqoUBegQICBAB&amp;usg=AOvVaw3QScY0vq6a5-F2qKoygg4E\"><div class=\"kCmkOe\"><img alt=\"\" class=\"DS1iW\" src=\"https://encrypted-tbn0.gstatic.com/images?q=tbn:ANd9GcQAxH2uOc-tL82seLt3DmQLizr3d9eT-Ykkn9aad6mxcUo5XXF9JPiUqvj1Yg&amp;s\"/></div></a></td></tr><tr><td><a href=\"/url?q=https://www.filmibeat.com/wallpapers/puneeth-rajkumar-35135.html&amp;sa=U&amp;ved=2ahUKEwiu4ebb1KKGAxUb2zgGHRkjCmQQr4kDegQICBAC&amp;usg=AOvVaw1WcX5BR3HGfCrHRjW9cP6x\"><div class=\"AlD19d\"> <span class=\"qXLe6d x3G5ab\"> <span class=\"fYyStc\">Puneeth Rajkumar HD...</span> </span> <span class=\"qXLe6d F9iS2e\"> <span class=\"fYyStc\">www.filmibeat.com</span> </span> </div></a></td></tr></table></div></div> </div> </div></td><td align=\"center\" class=\"e3goi\"><div class=\"jjVJ4e\"> <div> <div class=\"lIMUZd\"><div><table class=\"RntSmf\"><tr><td><a href=\"/url?q=https://www.thenewsminute.com/karnataka/reporters-diary-how-difficult-intv-began-professional-friendship-puneeth-157090&amp;sa=U&amp;ved=2ahUKEwiu4ebb1KKGAxUb2zgGHRkjCmQQqoUBegQIBxAB&amp;usg=AOvVaw1WfUIjAON1dVyf3HZsYXJQ\"><div class=\"kCmkOe\"><img alt=\"\" class=\"DS1iW\" src=\"https://encrypted-tbn0.gstatic.com/images?q=tbn:ANd9GcTIwnU9ji6UIqUoT6kecWHkmBixd2LhDXuPkbj0JmbMmGSIYhZ84K7Zb6L9Ce8&amp;s\"/></div></a></td></tr><tr><td><a href=\"/url?q=https://www.thenewsminute.com/karnataka/reporters-diary-how-difficult-intv-began-professional-friendship-puneeth-157090&amp;sa=U&amp;ved=2ahUKEwiu4ebb1KKGAxUb2zgGHRkjCmQQr4kDegQIBxAC&amp;usg=AOvVaw1FyHfAFCgQ4dFpIbGJr4Z2\"><div class=\"AlD19d\"> <span class=\"qXLe6d x3G5ab\"> <span class=\"fYyStc\">Reporter's diary: How a...</span> </span> <span class=\"qXLe6d F9iS2e\"> <span class=\"fYyStc\">www.thenewsminute.com</span> </span> </div></a></td></tr></table></div></div> </div> </div></td><td align=\"center\" class=\"e3goi\"><div class=\"jjVJ4e\"> <div> <div class=\"lIMUZd\"><div><table class=\"RntSmf\"><tr><td><a href=\"/url?q=https://www.instagram.com/ashwinipuneeth.rajkumar/&amp;sa=U&amp;ved=2ahUKEwiu4ebb1KKGAxUb2zgGHRkjCmQQqoUBegQIBRAB&amp;usg=AOvVaw1O-hKPVcEzHyjiJQy41yT7\"><div class=\"kCmkOe\"><img alt=\"\" class=\"DS1iW\" src=\"https://encrypted-tbn0.gstatic.com/images?q=tbn:ANd9GcQFfZahM7NYD1AWJOWe1xHWFaS2aL-iECBxOWouhu0uDM3yj4v-bafuX1DodV0&amp;s\"/></div></a></td></tr><tr><td><a href=\"/url?q=https://www.instagram.com/ashwinipuneeth.rajkumar/&amp;sa=U&amp;ved=2ahUKEwiu4ebb1KKGAxUb2zgGHRkjCmQQr4kDegQIBRAC&amp;usg=AOvVaw3TRDIQ6LUJ8MB-hJyAK5bH\"><div class=\"AlD19d\"> <span class=\"qXLe6d x3G5ab\"> <span class=\"fYyStc\">Ashwini Puneeth Rajkumar...</span> </span> <span class=\"qXLe6d F9iS2e\"> <span class=\"fYyStc\">www.instagram.com</span> </span> </div></a></td></tr></table></div></div> </div> </div></td><td align=\"center\" class=\"e3goi\"><div class=\"jjVJ4e\"> <div> <div class=\"lIMUZd\"><div><table class=\"RntSmf\"><tr><td><a href=\"/url?q=https://www.facebook.com/powerstarpuneethrajkumarfc/&amp;sa=U&amp;ved=2ahUKEwiu4ebb1KKGAxUb2zgGHRkjCmQQqoUBegQIARAB&amp;usg=AOvVaw0VFvkg096J00qmZEI7Y02i\"><div class=\"kCmkOe\"><img alt=\"\" class=\"DS1iW\" src=\"https://encrypted-tbn0.gstatic.com/images?q=tbn:ANd9GcS4J167oFizTlqTaaTs--2yLVvkG42NM2erbAxMQnPhh9jhGgl6nPV5fbmUDw&amp;s\"/></div></a></td></tr><tr><td><a href=\"/url?q=https://www.facebook.com/powerstarpuneethrajkumarfc/&amp;sa=U&amp;ved=2ahUKEwiu4ebb1KKGAxUb2zgGHRkjCmQQr4kDegQIARAC&amp;usg=AOvVaw36ygezH_zh9EKyA-YyFdOu\"><div class=\"AlD19d\"> <span class=\"qXLe6d x3G5ab\"> <span class=\"fYyStc\">Power Star Puneeth Rajkumar...</span> </span> <span class=\"qXLe6d F9iS2e\"> <span class=\"fYyStc\">www.facebook.com</span> </span> </div></a></td></tr></table></div></div> </div> </div></td></tr></table></div><table class=\"uZgmoc\"><tbody><td><a class=\"frGj1b\" href=\"/search?q=puneeth+rajkumar&amp;sca_esv=69d501c9217a3f8b&amp;biw=1163&amp;bih=508&amp;ie=UTF-8&amp;tbm=isch&amp;ei=N6FOZu7pIJu24-EPmcaooAY&amp;start=20&amp;sa=N\">Next &gt;</a></td></tbody></table><br/><div class=\"TuS8Ad\" data-ved=\"0ahUKEwiu4ebb1KKGAxUb2zgGHRkjCmQQpyoIUg\"><style>.VYM29{font-weight:bold}</style><div align=\"center\" class=\"HddGcc\"><span class=\"VYM29\">560037, Bengaluru, Karnataka</span><span> - </span><span>From your IP address</span><span> - </span><a href=\"/url?q=https://support.google.com/websearch%3Fp%3Dws_settings_location%26hl%3Den-IN&amp;opi=89978449&amp;sa=U&amp;ved=0ahUKEwiu4ebb1KKGAxUb2zgGHRkjCmQQty4IUw&amp;usg=AOvVaw39eZ3wMHhpRQb8Ok9Pr0im\">Learn more</a></div><div align=\"center\"><a class=\"rEM8G\" href=\"/url?q=https://accounts.google.com/ServiceLogin%3Fcontinue%3Dhttps://www.google.com/search%253Fq%253Dpuneeth%252Brajkumar%2526sca_esv%253D69d501c9217a3f8b%2526biw%253D1163%2526bih%253D508%2526sxsrf%253DADLYWIJ_xKWbyB8SH32NXY1CjqEAdN8bcw:1716402778752%2526ei%253DWjpOZujLLZGo1e8Pzdy94A4%2526oq%253Delon%2526gs_lp%253DEgxnd3Mtd2l6LXNlcnAiBGVsb24qAggAMgQQIxgnMggQABiABBixAzIIEAAYgAQYsQMyCBAAGIAEGLEDMggQABiABBixAzIIEAAYgAQYsQMyCBAAGIAEGLEDMgUQABiABDIIEAAYgAQYsQMyCBAAGIAEGLEDSOATUABY5AdwAHgAkAEAmAGeAaAB3gSqAQMwLjS4AQPIAQD4AQGYAgSgApEFwgILEAAYgAQYsQMYgwHCAg0QABiABBixAxhDGIoFwgIKEAAYgAQYQxiKBcICDhAAGIAEGLEDGIMBGIoFmAMAkgcDMC40oAeVGg%2526sclient%253Dgws-wiz-serp%2526tbm%253Disch%26hl%3Den&amp;opi=89978449&amp;sa=U&amp;ved=0ahUKEwiu4ebb1KKGAxUb2zgGHRkjCmQQxs8CCFQ&amp;usg=AOvVaw2FyMry5JSJ0UqexJYonb2h\">Sign in</a></div><div><table class=\"bookcf\"><tbody class=\"InWNIe\"><tr><td><a class=\"rEM8G\" href=\"https://www.google.com/preferences?hl=en&amp;sa=X&amp;ved=0ahUKEwiu4ebb1KKGAxUb2zgGHRkjCmQQv5YECFU\">Settings</a></td><td><a class=\"rEM8G\" href=\"https://www.google.com/intl/en_in/policies/privacy/\">Privacy</a></td><td><a class=\"rEM8G\" href=\"https://www.google.com/intl/en_in/policies/terms/\">Terms</a></td></tr></tbody></table></div></div><div> </div></body></html>"
      ]
     },
     "execution_count": 25,
     "metadata": {},
     "output_type": "execute_result"
    }
   ],
   "source": [
    "soup"
   ]
  },
  {
   "cell_type": "code",
   "execution_count": 46,
   "id": "ccea548b-1032-4409-bb3c-9f25b7fe13d2",
   "metadata": {},
   "outputs": [
    {
     "data": {
      "text/plain": [
       "<img alt=\"Google\" class=\"kgJEQe\" src=\"/images/branding/searchlogo/1x/googlelogo_desk_heirloom_color_150x55dp.gif\"/>"
      ]
     },
     "execution_count": 46,
     "metadata": {},
     "output_type": "execute_result"
    }
   ],
   "source": [
    "image_tags=soup.find_all(\"img\")\n",
    "image_tags[0]"
   ]
  },
  {
   "cell_type": "code",
   "execution_count": 47,
   "id": "87853788-4bff-43e1-9ad4-aff357af6e1f",
   "metadata": {},
   "outputs": [],
   "source": [
    "del image_tags[0]"
   ]
  },
  {
   "cell_type": "code",
   "execution_count": 48,
   "id": "f6890f3a-a6d8-4aec-bd24-f040c1ddf27e",
   "metadata": {
    "scrolled": true
   },
   "outputs": [
    {
     "data": {
      "text/plain": [
       "[<img alt=\"\" class=\"DS1iW\" src=\"https://encrypted-tbn0.gstatic.com/images?q=tbn:ANd9GcSI0Xz-yPafBF9OavVVVkYjX02GYPdkZu5TqC6jxx0ZR9lSmJffGKkCfkLiLA&amp;s\"/>,\n",
       " <img alt=\"\" class=\"DS1iW\" src=\"https://encrypted-tbn0.gstatic.com/images?q=tbn:ANd9GcQbrc83QjY7nlTkmTTl_wqwEzi4VMYY6jLL_9brkDR2-XD-i8ZnPqWnq_cGsg&amp;s\"/>,\n",
       " <img alt=\"\" class=\"DS1iW\" src=\"https://encrypted-tbn0.gstatic.com/images?q=tbn:ANd9GcTcBXD4VpJeFuSmi1G9KSyvGR3dXu0Wv_YBS72UO5pIQgUoS98Egj_up16fMA&amp;s\"/>,\n",
       " <img alt=\"\" class=\"DS1iW\" src=\"https://encrypted-tbn0.gstatic.com/images?q=tbn:ANd9GcRcLuzqdsTtkLI-wBAoC0JEXURdfnk8bTSMqpN44UH94TUnnvLFD4Ez1G5luA&amp;s\"/>,\n",
       " <img alt=\"\" class=\"DS1iW\" src=\"https://encrypted-tbn0.gstatic.com/images?q=tbn:ANd9GcSrV8IyFFIItKEO_DfF4YS-OqOVL5SG5aSa2_JacCobWH1_Zt_9GUwy4Kk9zzs&amp;s\"/>,\n",
       " <img alt=\"\" class=\"DS1iW\" src=\"https://encrypted-tbn0.gstatic.com/images?q=tbn:ANd9GcSJg2IGDfSCM5d1MJCoB-g3MzFkHFgRewcvdggJ1kmPCjVLGciicSoUnl3bkZ4&amp;s\"/>,\n",
       " <img alt=\"\" class=\"DS1iW\" src=\"https://encrypted-tbn0.gstatic.com/images?q=tbn:ANd9GcQVjsIfXzTe9LP5IwSYt2FfLAlYKsuuS2tMzmshZLWlEUyDQ6uzq5Clng6zrQ&amp;s\"/>,\n",
       " <img alt=\"\" class=\"DS1iW\" src=\"https://encrypted-tbn0.gstatic.com/images?q=tbn:ANd9GcStgVMP0_bQRfHrt9RIEdlx3rxRk-JkKhJyrjnNrCvO0yjevUC4OyGkkVkZPwc&amp;s\"/>,\n",
       " <img alt=\"\" class=\"DS1iW\" src=\"https://encrypted-tbn0.gstatic.com/images?q=tbn:ANd9GcT_Acy8Kfrw5w5I7ORUGsYK5tFyc81h8YNVOOiCycLpVSnldDT2XT9Z5FQWXsE&amp;s\"/>,\n",
       " <img alt=\"\" class=\"DS1iW\" src=\"https://encrypted-tbn0.gstatic.com/images?q=tbn:ANd9GcSwMRJ_mZjddSfRb80gGrA8DiDfY33dvTqnomu5LKWeGIdnTAYcJ9OovUQx4g&amp;s\"/>,\n",
       " <img alt=\"\" class=\"DS1iW\" src=\"https://encrypted-tbn0.gstatic.com/images?q=tbn:ANd9GcTRmJmun2CEy7trnLRM5G5rAlHfjA8TNuDJ3j6FGtTJ51--E0dGbycyw94p33o&amp;s\"/>,\n",
       " <img alt=\"\" class=\"DS1iW\" src=\"https://encrypted-tbn0.gstatic.com/images?q=tbn:ANd9GcTwIC8S33I1GnSFJ3GiXx2WBzMQjMiKOtKl6DONeezwc7n2exhrznsesWHAaQ&amp;s\"/>,\n",
       " <img alt=\"\" class=\"DS1iW\" src=\"https://encrypted-tbn0.gstatic.com/images?q=tbn:ANd9GcR6oUf8z97FmafcXiXl_cSrEo_P9a19iX44_CGeRyS7j7g6iKqezsRohGNsOQ&amp;s\"/>,\n",
       " <img alt=\"\" class=\"DS1iW\" src=\"https://encrypted-tbn0.gstatic.com/images?q=tbn:ANd9GcRhp3KbeP-36cgO22Vu8mVkSt29NggxiPmG9LGjQMAZQ_VefKCLD6KjcrLr0Q&amp;s\"/>,\n",
       " <img alt=\"\" class=\"DS1iW\" src=\"https://encrypted-tbn0.gstatic.com/images?q=tbn:ANd9GcTlCDh5yIdGSqFqQfntybaDRgmhnGRiSDSx4KGZ3HKZb_RwxqUUaycOS7gnHg&amp;s\"/>,\n",
       " <img alt=\"\" class=\"DS1iW\" src=\"https://encrypted-tbn0.gstatic.com/images?q=tbn:ANd9GcR87m-cdZm7MkKIovFVFUCQmTMstnXFr8_E3Slq_JCtZVMZBEAu6QvUg-yrcQ&amp;s\"/>,\n",
       " <img alt=\"\" class=\"DS1iW\" src=\"https://encrypted-tbn0.gstatic.com/images?q=tbn:ANd9GcT9s53FfqJ5buzEsVEQ73BWG4c6e4GRd9lRCCFb9IMZxNv0hnNKPGoJhYyVQdM&amp;s\"/>,\n",
       " <img alt=\"\" class=\"DS1iW\" src=\"https://encrypted-tbn0.gstatic.com/images?q=tbn:ANd9GcQuTGuN9M-iLtg_hWlRMl8UHvN4pqurVlyTc47L4Zpyv14ttE2Lw8UrqjToRg&amp;s\"/>,\n",
       " <img alt=\"\" class=\"DS1iW\" src=\"https://encrypted-tbn0.gstatic.com/images?q=tbn:ANd9GcQpBKQZT2_VyRm2cTd8Ke5fCXRtbmZiOTo03Mzk1qPoezF2BWrKWL7ZI9xFa-4&amp;s\"/>,\n",
       " <img alt=\"\" class=\"DS1iW\" src=\"https://encrypted-tbn0.gstatic.com/images?q=tbn:ANd9GcQxZgi5moDN4NfnPB3j7Lux7L7mOSpgX-FMNP8VsG22II7GLCjhCGEk1w9dCyk&amp;s\"/>]"
      ]
     },
     "execution_count": 48,
     "metadata": {},
     "output_type": "execute_result"
    }
   ],
   "source": [
    "image_tags"
   ]
  },
  {
   "cell_type": "code",
   "execution_count": 29,
   "id": "4915607f-ba4c-4365-9dc8-e3ee7db2f4be",
   "metadata": {},
   "outputs": [
    {
     "data": {
      "text/plain": [
       "20"
      ]
     },
     "execution_count": 29,
     "metadata": {},
     "output_type": "execute_result"
    }
   ],
   "source": [
    "len(image_tags)"
   ]
  },
  {
   "cell_type": "code",
   "execution_count": 30,
   "id": "ddcbff24-09cb-4f4e-947a-c61a0886aff7",
   "metadata": {
    "scrolled": true
   },
   "outputs": [
    {
     "name": "stdout",
     "output_type": "stream",
     "text": [
      "<img alt=\"\" class=\"DS1iW\" src=\"https://encrypted-tbn0.gstatic.com/images?q=tbn:ANd9GcTvb1djW7sunucO7FNZI6-vdDC92unDpcA8Jc9XsnbpGnzEFvmU-xLBmfECf6k&amp;s\"/>\n",
      "<img alt=\"\" class=\"DS1iW\" src=\"https://encrypted-tbn0.gstatic.com/images?q=tbn:ANd9GcTahgoCmPGGbxrpIq6IWMVcrGvs-48oyN3UgtgMpIz9nL9V0HadYUNVYN-BSsg&amp;s\"/>\n",
      "<img alt=\"\" class=\"DS1iW\" src=\"https://encrypted-tbn0.gstatic.com/images?q=tbn:ANd9GcS4ujm4_dxnXj2WYZvt8yHT-m-oz9HY08t-oiJFldi5vL3W4EFQkKBvQlt9yz8&amp;s\"/>\n",
      "<img alt=\"\" class=\"DS1iW\" src=\"https://encrypted-tbn0.gstatic.com/images?q=tbn:ANd9GcRRYkj9YbN8dh2qTh78M7LqmWms2gWfA0z1YCvt9vib-pptXeaqJ6iQO_WH_WM&amp;s\"/>\n",
      "<img alt=\"\" class=\"DS1iW\" src=\"https://encrypted-tbn0.gstatic.com/images?q=tbn:ANd9GcTLgu2QS3KZs0ZNn4Ol8b0McBE3CUlDsWMtdVA6fAr6qqWlXlBAyTrT4phMmRo&amp;s\"/>\n",
      "<img alt=\"\" class=\"DS1iW\" src=\"https://encrypted-tbn0.gstatic.com/images?q=tbn:ANd9GcRSFUf_EnybLeTBdE9YLOK3FZE5dzWUie2g8bFCTyY-hggamO_LC1jt23Xvgg&amp;s\"/>\n",
      "<img alt=\"\" class=\"DS1iW\" src=\"https://encrypted-tbn0.gstatic.com/images?q=tbn:ANd9GcRne3JWV3GHXx1wZY9UnBjoebt7WYChRWGAz-MXYXrnAcSYx3WWAKpK1wfimQ&amp;s\"/>\n",
      "<img alt=\"\" class=\"DS1iW\" src=\"https://encrypted-tbn0.gstatic.com/images?q=tbn:ANd9GcSbYNOBx3RhXEF5d6cYEQc8mWN2yk3pxclypU4qpAxjbBFxqYLh0iiPNjcfkMI&amp;s\"/>\n",
      "<img alt=\"\" class=\"DS1iW\" src=\"https://encrypted-tbn0.gstatic.com/images?q=tbn:ANd9GcTlCQDJo8JEqplrMCU3zfwc8JONF3d5V2FSTZgIURVQkPeyc0caK1N70c3AQZM&amp;s\"/>\n",
      "<img alt=\"\" class=\"DS1iW\" src=\"https://encrypted-tbn0.gstatic.com/images?q=tbn:ANd9GcTtydCnDfgA-jC_sRIedZtVqEXig0dIsgnTHJMaTlivpzchr2Oehn3Iio9Ty1E&amp;s\"/>\n",
      "<img alt=\"\" class=\"DS1iW\" src=\"https://encrypted-tbn0.gstatic.com/images?q=tbn:ANd9GcRyo2pFDPuJGAJvA5bSn3LjO0YGx4QZzsxz1MPpC2qJ_z6L3oskODgUKpIbluc&amp;s\"/>\n",
      "<img alt=\"\" class=\"DS1iW\" src=\"https://encrypted-tbn0.gstatic.com/images?q=tbn:ANd9GcQxzN6WoT2ch2foZQf60QBXSqTCG91E9WMrw2bGIH775gzSt2FR5WH5lQ6DuQ&amp;s\"/>\n",
      "<img alt=\"\" class=\"DS1iW\" src=\"https://encrypted-tbn0.gstatic.com/images?q=tbn:ANd9GcSeHeafYpESYEIKDkM4L_lE8TW1jfyMTKxnIniP1IbHCZKcGTYEia5ByfY78w&amp;s\"/>\n",
      "<img alt=\"\" class=\"DS1iW\" src=\"https://encrypted-tbn0.gstatic.com/images?q=tbn:ANd9GcQlDXWLfu6YCVKsaNCbtw3OOKyl3quUsE10j7OTDvEIWwLbtTtNxbQ0IHAHFIA&amp;s\"/>\n",
      "<img alt=\"\" class=\"DS1iW\" src=\"https://encrypted-tbn0.gstatic.com/images?q=tbn:ANd9GcSiUHEcpufZ1GF34Q_mUGc1wgBy1QIQdNt_0VZf1h2eZIc9LeTVDVtZCiVo2A&amp;s\"/>\n",
      "<img alt=\"\" class=\"DS1iW\" src=\"https://encrypted-tbn0.gstatic.com/images?q=tbn:ANd9GcQ_kFiBKjoNDOt7cVB0mcKuYhFYz2Oi2j_yVZf6_U1-y0IAHMho68M0ucoehQ&amp;s\"/>\n",
      "<img alt=\"\" class=\"DS1iW\" src=\"https://encrypted-tbn0.gstatic.com/images?q=tbn:ANd9GcQAxH2uOc-tL82seLt3DmQLizr3d9eT-Ykkn9aad6mxcUo5XXF9JPiUqvj1Yg&amp;s\"/>\n",
      "<img alt=\"\" class=\"DS1iW\" src=\"https://encrypted-tbn0.gstatic.com/images?q=tbn:ANd9GcTIwnU9ji6UIqUoT6kecWHkmBixd2LhDXuPkbj0JmbMmGSIYhZ84K7Zb6L9Ce8&amp;s\"/>\n",
      "<img alt=\"\" class=\"DS1iW\" src=\"https://encrypted-tbn0.gstatic.com/images?q=tbn:ANd9GcQFfZahM7NYD1AWJOWe1xHWFaS2aL-iECBxOWouhu0uDM3yj4v-bafuX1DodV0&amp;s\"/>\n",
      "<img alt=\"\" class=\"DS1iW\" src=\"https://encrypted-tbn0.gstatic.com/images?q=tbn:ANd9GcS4J167oFizTlqTaaTs--2yLVvkG42NM2erbAxMQnPhh9jhGgl6nPV5fbmUDw&amp;s\"/>\n"
     ]
    }
   ],
   "source": [
    "for i in image_tags:\n",
    "    print(i)"
   ]
  },
  {
   "cell_type": "code",
   "execution_count": 49,
   "id": "d3645d9c-5d31-4e49-b4a6-4250b80df1d3",
   "metadata": {
    "scrolled": true
   },
   "outputs": [
    {
     "name": "stdout",
     "output_type": "stream",
     "text": [
      "https://encrypted-tbn0.gstatic.com/images?q=tbn:ANd9GcSI0Xz-yPafBF9OavVVVkYjX02GYPdkZu5TqC6jxx0ZR9lSmJffGKkCfkLiLA&s\n",
      "https://encrypted-tbn0.gstatic.com/images?q=tbn:ANd9GcQbrc83QjY7nlTkmTTl_wqwEzi4VMYY6jLL_9brkDR2-XD-i8ZnPqWnq_cGsg&s\n",
      "https://encrypted-tbn0.gstatic.com/images?q=tbn:ANd9GcTcBXD4VpJeFuSmi1G9KSyvGR3dXu0Wv_YBS72UO5pIQgUoS98Egj_up16fMA&s\n",
      "https://encrypted-tbn0.gstatic.com/images?q=tbn:ANd9GcRcLuzqdsTtkLI-wBAoC0JEXURdfnk8bTSMqpN44UH94TUnnvLFD4Ez1G5luA&s\n",
      "https://encrypted-tbn0.gstatic.com/images?q=tbn:ANd9GcSrV8IyFFIItKEO_DfF4YS-OqOVL5SG5aSa2_JacCobWH1_Zt_9GUwy4Kk9zzs&s\n",
      "https://encrypted-tbn0.gstatic.com/images?q=tbn:ANd9GcSJg2IGDfSCM5d1MJCoB-g3MzFkHFgRewcvdggJ1kmPCjVLGciicSoUnl3bkZ4&s\n",
      "https://encrypted-tbn0.gstatic.com/images?q=tbn:ANd9GcQVjsIfXzTe9LP5IwSYt2FfLAlYKsuuS2tMzmshZLWlEUyDQ6uzq5Clng6zrQ&s\n",
      "https://encrypted-tbn0.gstatic.com/images?q=tbn:ANd9GcStgVMP0_bQRfHrt9RIEdlx3rxRk-JkKhJyrjnNrCvO0yjevUC4OyGkkVkZPwc&s\n",
      "https://encrypted-tbn0.gstatic.com/images?q=tbn:ANd9GcT_Acy8Kfrw5w5I7ORUGsYK5tFyc81h8YNVOOiCycLpVSnldDT2XT9Z5FQWXsE&s\n",
      "https://encrypted-tbn0.gstatic.com/images?q=tbn:ANd9GcSwMRJ_mZjddSfRb80gGrA8DiDfY33dvTqnomu5LKWeGIdnTAYcJ9OovUQx4g&s\n",
      "https://encrypted-tbn0.gstatic.com/images?q=tbn:ANd9GcTRmJmun2CEy7trnLRM5G5rAlHfjA8TNuDJ3j6FGtTJ51--E0dGbycyw94p33o&s\n",
      "https://encrypted-tbn0.gstatic.com/images?q=tbn:ANd9GcTwIC8S33I1GnSFJ3GiXx2WBzMQjMiKOtKl6DONeezwc7n2exhrznsesWHAaQ&s\n",
      "https://encrypted-tbn0.gstatic.com/images?q=tbn:ANd9GcR6oUf8z97FmafcXiXl_cSrEo_P9a19iX44_CGeRyS7j7g6iKqezsRohGNsOQ&s\n",
      "https://encrypted-tbn0.gstatic.com/images?q=tbn:ANd9GcRhp3KbeP-36cgO22Vu8mVkSt29NggxiPmG9LGjQMAZQ_VefKCLD6KjcrLr0Q&s\n",
      "https://encrypted-tbn0.gstatic.com/images?q=tbn:ANd9GcTlCDh5yIdGSqFqQfntybaDRgmhnGRiSDSx4KGZ3HKZb_RwxqUUaycOS7gnHg&s\n",
      "https://encrypted-tbn0.gstatic.com/images?q=tbn:ANd9GcR87m-cdZm7MkKIovFVFUCQmTMstnXFr8_E3Slq_JCtZVMZBEAu6QvUg-yrcQ&s\n",
      "https://encrypted-tbn0.gstatic.com/images?q=tbn:ANd9GcT9s53FfqJ5buzEsVEQ73BWG4c6e4GRd9lRCCFb9IMZxNv0hnNKPGoJhYyVQdM&s\n",
      "https://encrypted-tbn0.gstatic.com/images?q=tbn:ANd9GcQuTGuN9M-iLtg_hWlRMl8UHvN4pqurVlyTc47L4Zpyv14ttE2Lw8UrqjToRg&s\n",
      "https://encrypted-tbn0.gstatic.com/images?q=tbn:ANd9GcQpBKQZT2_VyRm2cTd8Ke5fCXRtbmZiOTo03Mzk1qPoezF2BWrKWL7ZI9xFa-4&s\n",
      "https://encrypted-tbn0.gstatic.com/images?q=tbn:ANd9GcQxZgi5moDN4NfnPB3j7Lux7L7mOSpgX-FMNP8VsG22II7GLCjhCGEk1w9dCyk&s\n"
     ]
    }
   ],
   "source": [
    "# fetch image links\n",
    "for i in image_tags:\n",
    "    print(i['src'])"
   ]
  },
  {
   "cell_type": "code",
   "execution_count": 32,
   "id": "5458da08-9683-4bc9-8330-e757b8111eb1",
   "metadata": {
    "scrolled": true
   },
   "outputs": [
    {
     "data": {
      "text/plain": [
       "b'\\xff\\xd8\\xff\\xe0\\x00\\x10JFIF\\x00\\x01\\x01\\x00\\x00\\x01\\x00\\x01\\x00\\x00\\xff\\xdb\\x00\\x84\\x00\\t\\x06\\x07\\x08\\x07\\x06\\t\\x08\\x07\\x08\\n\\n\\t\\x0b\\r\\x16\\x0f\\r\\x0c\\x0c\\r\\x1b\\x14\\x15\\x10\\x16 \\x1d\"\" \\x1d\\x1f\\x1f$(4,$&1\\'\\x1f\\x1f-=-157:::#+?D?8C49:7\\x01\\n\\n\\n\\r\\x0c\\r\\x1a\\x0f\\x0f\\x1a7%\\x1f%77777777777777777777777777777777777777777777777777\\xff\\xc0\\x00\\x11\\x08\\x00l\\x00\\xa2\\x03\\x01\"\\x00\\x02\\x11\\x01\\x03\\x11\\x01\\xff\\xc4\\x00\\x1c\\x00\\x00\\x00\\x07\\x01\\x01\\x00\\x00\\x00\\x00\\x00\\x00\\x00\\x00\\x00\\x00\\x00\\x00\\x01\\x02\\x04\\x05\\x06\\x07\\x03\\x08\\xff\\xc4\\x00:\\x10\\x00\\x01\\x03\\x03\\x03\\x02\\x04\\x04\\x02\\t\\x03\\x05\\x00\\x00\\x00\\x00\\x01\\x02\\x03\\x04\\x00\\x05\\x11\\x06\\x12!1A\"Qaq\\x07\\x13\\x14\\x81#2\\x15\\x16BRb\\x91\\x92\\xb1\\xd1r\\xa1\\xf0$4CD\\xc1\\xff\\xc4\\x00\\x19\\x01\\x00\\x03\\x01\\x01\\x01\\x00\\x00\\x00\\x00\\x00\\x00\\x00\\x00\\x00\\x00\\x00\\x00\\x01\\x02\\x03\\x04\\x05\\xff\\xc4\\x00!\\x11\\x00\\x02\\x02\\x03\\x01\\x00\\x02\\x03\\x01\\x00\\x00\\x00\\x00\\x00\\x00\\x00\\x00\\x01\\x02\\x11\\x03\\x12!1\"Q#2A\\x13\\xff\\xda\\x00\\x0c\\x03\\x01\\x00\\x02\\x11\\x03\\x11\\x00?\\x00\\xc4\\xd0\\x14$\\x00\\xd7\\xe6\\x0b\\xf0\\xd6\\x9bk\\x9f%\\x98\\x18L2B\\x11\\x80|\\xd4k/i\\xc2\\xdb\\xa9puI\\x06\\xad\\xf6\\xcdk\\xf4\\x8c\\x06\\x9deJ\\x1b\\xf7q\\x8e\\x95K\\xc12\\xd3o\\xb9\\xbe\\xcbm\\xa2D5\\x12\\x0e\\\\>^\\x94\\xbb\\x85\\xceL\\xc8\\xebm\\x10\\x1d\\xca\\xce\\x07\\x1d\\x05B\\'^\\xc6\\x05J\\xfae\\x12\\xa3\\x9e\\x94\\xe9\\xaf\\x89L\\x81\\x85\\xc4 g\\xa6\\x07\\x956\\xacTS.\\x16;\\x88\\x90\\xeb\\x89\\x88\\xb0\\x82\\xa2@\\xa6\\xc9\\xb1\\xdc\\xd6N\\xd8n\\x1cu\\xf4\\xab\\xdb\\x9f\\x10\\xed\\xee\\x1c\\xae*\\x8e\\x0eq\\xb0sF\\xd6\\xbe\\xb5\\xb7\\xc7\\xd3\\x9e\\x9c\\x9d\\x95\\x14\\xc2\\xdf\\xd1BU\\x96\\xe4\\x94\\x95*#\\x80\\x0fjd\\xe3kie.$\\xa5C\\xb1\\xad\\x12\\xe1\\xaf \\xbb\\x1dB;\\x07q\\xc8\\xc1EP\\xae2\\x8c\\xc9n=\\x8cn<\\n\\x06\\x9bg{Z:\\xac\\x0c\\xe2\\xb4\\xfd3i\\x83z\\x8e\\xde\\xf6\\x12\\xa2\\x94\\x8c\\xd6ah\\x94\\x96]\\xd8\\xe66\\xa8\\xd6\\x83\\xa6n\\xaeY\\xd3\\xba2R\\xf3j\\xed\\x9e@\\xa7D\\xc8\\xef\\xaa-\\x90\\xac\\xf1\\x9e\\xd8\\xc2B\\xba\\xa7\\xde\\xb3\\xdb\\x847]ZK-\\x12O\\\\U\\xcfX]\\x1c\\xba\\x00\\xe2\\xdb\\xd8z\\xed\\x1c\\xfbS;F\\x8b\\xbe\\xde-\\xc2a\\xdb\\x19\\x972[\\x0e(\\xe5C\\xcf\\x1d\\x85Ct^(\\xb9\\x07\\xa3\\xa6\"\\xd6\\xd9n\\xe0\\x00=\\xb0s\\x81V\\xd1~\\x82\\xa9\\x03\\xe5\\x92\\xa6\\x95\\xc9\\xc0\\xce\\x08\\x15I\\x99\\xa0\\xf5\\x14d\\xeeo\\xf1q\\xfb\\xab\\xff\\x005\\x11\\xba\\xf1a\\x9c\\xd3\\xf3\\x18q!*\\xe48\\x9e\\x15\\xe63\\xedB\\x95\\x97<Mt\\xd4\\xbfL\\xdbR\\xd8R9*\\xc8#osY\\xfe\\xb6m\\xb9\\x8e&DF\\x94BU\\xb7\\xc2\\x93\\xd2\\xad\\xb1u\\x86\\x9dA\\x1b\\xdbG8\\xec8\\xae\\x8ej\\xbd2\\xe0\\x18\\r\\xa4\\xf1\\x91\\x81W\\xa9\\x87\\x8c\\xc8\\xbe\\x9d\\xe3\\xd1\\xa7\\x0e:\\xf8O\\x14\\x7fM#\\xbb.\\x7fA\\xadC\\xf4\\xce\\x9b\\xc9RT\\xde\\xe1\\xfe\\xf5\\xd5W\\xed6\\xb06\\xa9\\xbd\\xc0\\xf0(\\xa2\\xb62e!H8RH>\\xa3\\x14\\x1bN\\xe5\\xa5>g\\x15j\\xd5\\x97\\x1b|\\xa6\\xd6\\x98\\x88F\\xe0\\xae\\nqUD\\xabi\\x04u\\x074\\x86\\x9d\\x92\\xff\\x00J\\xd0\\xe3bhWd]#lN\\xe4\\xabv9\\xe3\\xbd\\nt*\\x91\\x03B\\x85\\nE\\x06\\r\\x1ei5%o\\xb4H\\x9aF\\xc1\\x84\\x9e\\xe6\\x9aM\\x8c\\x8e\\xa1V%\\xe9gB<\\x12\\x10U\\xe5P\\xd3`\\xbd\\r{^N\\x07\\x9fj\\x1ahWcZ\\x14\\xb6\\xdb[\\x87\\x08IQ\\xf2\\x02\\xba\\x882\\xd5\\x8d\\xb1\\x9d9\\xfe\\x03H\\x0e\\x15\\xdd\\x89\\x92X\\x042\\xfa\\xd0\\x0f`h\\x8cI\\t\\xceXp`\\xe3\\x94\\x1aB\\xd9q\\xb3\\x87\\x1bZ\\x7f\\xd4\\x9cQ`Y\\xb4jd\\xddo-\\xb2\\xe2\\x94\\xf1\\x07;U\\xd3\\xa1\\xafCFVa!\\xb6\\x906\\xa5!$\\x9a\\xc8\\xbe\\x1a\\xc5\\x8c#\\xc2\\x94\\x96\\x92\\x97\\xff\\x00\\x17\\xe68\\x90|H\\xce\\xd1\\x9ez\\xe4\\x9e\\x9d\\xaa\\xd3\\xab!\\\\\\x8e\\xc2\\xd2\\x94\\xb6J\\x80HL\\x87\\x11\\xf2\\xc7\\x98\\x08\\x1dx\\xeek\\'+tt\\xc3\\x1d$X\\x9e\\x03\\n\\x18\\n\\xf65Q\\xd5\\xd1\\xdb\\x9d\\x15\\xf8\\xee\\xb6\\x02\\x14\\xdf_^\\xc6\\xb9\\x84\\xde\\xa2X~\\xa1n\\x1f\\xaa.a\\x01J\\xea899\\xc7\\x9f\\xa5C\\xb7*\\xe4\\xea\\xd6\\xa9\\xae\\xc8p\\x14\\x92\\xb0\\xf2P\\x02;q\\xb4\\x91\\x8a\\xcd\\xa3\\xa6\\xa8\\xcc\\\\\\t\\x04\\x01\\xe5\\xcf\\xbd \\xd7e\\xb2\\xb5HZ\\x1b\\x1b\\x899\\x01?\\xce\\x9e\\xb5b\\x9e\\xea7%\\xb4\\xe3\\xd4\\xe2\\xba\\xd7\\x87\\x9e\\xe9\\x11F\\x85:\\x99\\x02T3\\x89\\r\\x14\\xfa\\xf5\\x14\\xd2\\xa4\\x90\\xf3EG\\x8a\\x18\\xf5\\xa0\\x02\\xa1G\\x8a\\x14\\x00\\xbf\\x90\\xf6@\\xf9Nd\\xf4\\xf0\\x9aIB\\x92p\\xa4\\x91\\xee+jM\\xcbM-H!L\\x85{\\xf4\\xaa.\\xb3\\x9dm}\\x8d\\xb0R\\x9d\\xeap\\x8c\\x81\\xda\\x9bTB\\x9d\\xba\\xa2\\xa7\\x11\\xb0\\xec\\x86\\xd0\\xae\\x84\\xf3ZN\\x96\\x8b\\x16[N2\\xef\\x05G\\t\\xac\\xda+\\x81\\xa7\\xd0\\xb3\\xd0\\x1ej\\xfb`{j\\xd8\\x90\\xce\\x0e\\xd3\\xe2\\x02\\xae>\\x0eE\\xbchX\\x91v>\\x95\\xaf*\\xe4\\x92MTud8\\xcb[\\xcc\\xb4\\x01\\x08\\xe3#\\xce\\xb4I\\xfa\\x92;\\xf6\\x92\\x94\\x05\\x07\\x021\\x8cV[u\\x92\\x18\\x8e\\xf3\\x8f+\\xf1\\x17\\x93\\x8f^\\xd4\\xfe\\xec\\x98\\xf5\\x91z-\\xc6Qw\\rI\\t(_s\\xe6+mi\\xabKq\\x92\\xeaP\\xce3\\xc7\\x02\\xb0\\xed*\\xfcv.;\\xa4\\x8e1\\xc7\\xbekg\\x8c\\xbb<\\x88iJ^\\x00c\\xce\\x95|C\\'\\x1a\\x1f5\\x02\\xd2\\xf6\\xd5\\x943\\x90\\x9e\\x98\\x1dj\\x07Z\\xd9\\xado\\xdb]\\xf9Ih9\\x8d\\xa0\\x80:\\xe2\\x9f\\xb0\\xdd\\xaf\\xe6\\xf8\\xa4\\xe3<u\\xae\\xee\\xc0\\xb2\\xad92\\x93\\x80\\x0eIWA\\xe7R\\xe2E\\x94\\x8f\\x863\\xdb\\xfd\\x112\\xdc\\xb0D\\x88\\xce\\x95o\\xc7\\x1b\\x0fA\\x9fp\\xa3\\xf7\\xabZ\\xe5\\xcet\\xb7\\x19\\xb4-!_\\xb4\\x01\\xe4\\x7f\\x8ah\\xdd\\xad\\xa4Y\\xd1v\\xb4Dm1d\\xb6]\\x0bo\\xf3\\xafk\\x8aI\\x18\\xff\\x00N\\x15\\xeeH\\xedA\\x0bz\\xec\\x12\\xd2\\xa4\\x04\\xb4\\xd2r\\x9f\\x94\\xf6\\xd5(z\\x8e\\xb8\\x1e\\x95\\xcb5\\xf2=L\\x19>*\\xc3\\xb9\\xdd\\xeeE\\xe8\\xf0]\\xb7\\x84\\xa1\\x95d>\\x1e\\xdc\\x15\\x8f\\xb0\\xe7\\x81\\xc68\\xcdF]\\xee\\xd1\\x9c\\x8a\\xa0\\x80\\x846\\x10T\\xeaP\\x00\\xe0ri\\x92\\xa1\\xccq\\xf7\\x93\\x97\\xd9m\\n\\xce\\xf4\\xc9S\\x99\\xfb(\\x91U\\xcd]qlF\\x11\\x1bN\\x1dP\\x01\\xc5c\\nV:\\x93\\x8a_\\xb3\\xa4m9\\xa8D\\xe5b\\x8c\\x89\\x12\\x13!\\xf07Hsr\\xbe\\xe6\\xaf\\x0fh\\xf9rV\\x17\\x0ej\\x90\\xd0\\x198\\xaaM\\x81\\xdf\\x9f\\t\\x08A\\x1f1\\x03\\x81\\xe6Ej\\xfa2\\xef\\x1f\\xf4\\x7f\\xca\\x96\\xb4\\xa5\\xe01\\x82k\\xba\\xb9\\xc3\\xc9\\x93n\\xd9O\\xbaYW\\x16\\xdc~\\xb9\\xd4\\xba\\t\\xc0$sY\\xbd\\xd6\\'\\xd1\\xccSC\\xf2\\x9eS\\xedZ~\\xb8\\x93\\xf53Q\\x1d\\xa5~\\x1a|G\\x1d\\xab:\\xd4\\x8e\\xa1\\xcb\\x80\\t\\xe7b\\x005/\\xcb\\x08Y\\xa0h\\xeb\\x15\\xaa\\xefmL\\x954\\x8d\\xe5\\xbd\\xbd\\x06A\\xa9\\xd5i\\x0b\\x1b\\xe5l\\x18\\xed\\x85\\xb5\\xb5G\\x81P\\x1a\\x16<E\\xc5l4\\xf9m_/y\\x00\\xf7\\xa9\\xc7m\\xce!\\xd5)\\x13\\x0f\\xe3\\xa3*Vi\\xb4L\\x9d1\\x0b\\xd06\\xf2\\xb5\\x14\\xb46\\x93\\xc6(S\\xb6\\xda\\x96\\x1bH\\x17\\x0e0(T\\xeaM\\x985\\x0c\\xf1\\x8a*:\\x93p\\xa9\\xec\\x0b\\x9c\\x98\\x0b\\nax\\x03\\xf6O\"\\x99\\xd0\\xc54\\xe8\\x0b\\x12\\xf5l\\xc5\\xb5\\xb3\\xe5 \\x1f\\xde\\x04\\xd44\\xa9OL^\\xe7\\x95\\x9f :\\nkKI\\xaa\\x8f_A$\\x83\\xc1\\x14\\xb1&B8K\\xee\\x81\\xe4\\x16il\\xb6\\x1cV\\t\\xc0\\xf3\\xa7\\xac\\xb2\\xc2\\x15\\x802|\\xcdh\\xf1\\xfd\\x04\\x9a\\x1b4\\xb9\\xce\\xfeY\\x0f\\x01\\xe6Vi\\xdbo\\xb8\\x85\\x06\\xd7!\\xd7\\t\\x18;\\x96qJ\\x90v7\\xe1\\xa8\\xb4\\xa9A{\\xb3\\x93\\xda\\x9aZ\\x91\\xe9\\xba|\\x1b\\xb95t\\xb1\\xcf\\xd33\\x1c\\xc3\\x91\\xd4^\\x8e{\\x84+\\xae=\\x95\\x9f\\xea\\xaa\\xb6\\xb6\\xb4L\\xb2]\\x96\\xde\\x14\\xd8^T6\\x1c\\x07\\x01\\xeaRj\\xaf\\xa5\\xaf\\xca\\xb0\\xea\\x1b}\\xd0~V\\x17\\x87\\x93\\xe6\\xd9\\xe1_\\xed\\xcf\\xb8\\x15\\xe8\\x9dP\\xdc[\\xdd\\xb9\\xb8B#s\\x1at\\x07>i\\xff\\x00\\xc4;\\x14\\x9c\\x8epk<\\xb0\\xb7\\xc3Ls\\xd7\\xdf\\x0c&\\xdb\\x12d\\xf7C_=\\xe0\\xda\\x8e\\xc0\\x91\\xc6\\xf2{\\x0f~\\x95\\x01\\xac!&&\\xa5\\x9f\\x11\\xb2\\x9cGp6@<d$\\x03\\x8f\\xbekh\\xfdZ\\x91c\\xc5\\xc2\\xd9\\x1b\\xea\\x1di[\\xd9C\\xc7)@\\x03$\\xf6\\xdcx {\\xfd\\xea\\x83/J\\xfe\\x96\\x9dq\\x9f-\\xc7\\xda\\x9bp\\x92\\xf3\\xd0\\x98B7~\\x19Q!K\\x18\\xc8\\x07\\xfbs\\xde\\xb2\\x8aQW#Y\\xfeGP\\xe9A\\x89)\\xf8/\\x05\\xb4JH\\xec{\\xd5\\xa2&\\xb1h!\"Lu\\x07\\x07\\xed$\\xf1U\\xc9-\\xbf\\r\\xf7#JiM\\xba\\xda\\xb6\\xb8\\xda\\xc7)>U\\xcc\\xb2\\x87\\x06S\\x91[\\xea\\xd7\\x87;K\\xfaN\\\\\\xb51\\x91\\xbb\\xe4 \\x82\\x7fh\\xd5u\\xc5\\x95\\xac\\xa9d\\xa8\\x93\\x92|\\xe8\\x96\\x82\\x92\\x06s\\xc6A\\xa2\\xc5C\\xb6Z_C\\x98\\xb7)p\\xd5\\x98\\xef\\xa9\\x1cc\\xafjx55\\xd8\\x04\\x8f\\xabQ\\t\\x18\\xc1\\xa8\\x92)56\\xc9i\\x12\\xbf\\xacW^\\xd2\\x97GQ4(\\xb6\\x14\\x89\\x0b\\x1a\\x19]\\xd1\\x96\\xe4\\xa7-\\xad[O\\xa1\\xadf&\\x8b\\xb3\\xfd\\x1bn8\\xdaU\\xb1\\x04\\xaa\\xb2k2Yv\\xe6\\xd2d\\x1d\\xa8\\'9\\xf25\\xad\\xdb\\xa2\\xb4\\xfd\\xb5\\x01\\xa9\\x87\\x0e\\xf0\\xa1\\xba\\x9a\\\\\"o\\xc3\\xa7\\xea%\\x96@\\xca\\x1aF\\x1c\\x01\\\\\\x0e\\xc2\\xa2\\xf5F\\x84\\xb6\\xb3\\t\\xe7\\xa2$%\\xc0\\x9e\\x00\\xf3\\xa9x\\xb1d4\\x12\\x1a\\x9b\\x8d\\x80\\xa4\\r\\xddi\\xc3\\xb6Y\\x12\\x1a\\trv\\xe0\\t$g\\xad&\\xb8F\\xcc\\xc1\\xd4\\x92\\x95\\x14\\xa8r\\x0e\\r\\x10\\xebZ|\\xdf\\x87,\\x17\\x14\\xb4>w\\x15\\x12@W_J\\x0c\\xfc4a\\xc4\\x12_X>[\\xb8\\xa5\\xd3]\\xd1\\x9e\\xc3\\xdb\\x83\\xbd@\\x05R\\x9dN\\xc1\\xe1W>\\x86\\xa7\\xb5f\\x99b\\xc0\\xe46\\xdaYq\\xc7\\xd2\\xa5((\\xe4\\x001\\x8f\\xeej\\xb8\\xeb`r\\xd9\\xc6z\\x8a\\xe8\\x8bm\\x0b\\x8d\\xd8\\xbf\\xab\\xde>Z\\xc7^3M\\xd2pH\\xf5\\xa4+\\x83F\\xe7\\x0e\\x1cT\\xb92\\xa8\\xeb\\xbf\\x1f\\x9b\\x9a\\xf4W\\xc2+\\xdbw\\x1d\"\\xccW\\x89\\x12-\\xe7\\xe9\\xd6;\\xec\\x1c\\xa0\\xff\\x00N\\x07\\xd8\\xd6=\\xf0\\xff\\x00G/W\\\\\\x1fh\\xcc\\x11\\x1b\\x8c\\xd0y^\\x1c\\xadi\\xc8\\x07h\\xf4\\xf3\\xf6\\xe0\\xd6\\xd7k\\x81j\\xd3V\\xf1\\x1a\\xda\\xd3hH\\xe5n\\xb8\\xa0\\n\\xcf\\xef)^\\x7f\\xf0T\\xe4\\xc9EB\\x1b\\x16\\t\\xb3\\xde\\\\%\\x81\\x17.)\\x1f\\x95\\'\\x9fj\\xcb5\\x04\\x97\\x10\\xb9H\\xb79\\xff\\x00Z\\x86\\xcb\\x92\\xa6\\x12p\\x909\\r#\\x1eg\\xb7|U\\xc2e\\xc9\\x95\\xc7/8\\x97\\xd7\\x1c$\\x92\\xa6\\x8e\\x02\\xbd\\x00\\xeak9\\x9f\\xae\\x9b\\x86\\\\\\x8fj\\xb77\\x04\\x95\\x15\\x07$#.\\x15t\\xcf=\\xfe\\xf5\\xc9+\\x99\\xd7\\x8d(t\\xaakHS\\x18\\xb9\\xb6\\xfc\\xf6_m\\xd7\\xdaF\\xef\\x9a9\\xde\\x06\\x08\\xfe[O\\xde\\xa0\\x1b\\x04\\xe7=\\xabR\\x87\\r\\xfb\\xcd\\xa5\\xf8w\\xe6W\\x87\\x1c\\xdc\\xd3\\xea#w\\xa2\\x87\\x9dg\\x97\\xcbD\\xcb$\\xc5\\xb1-$\\x8c~\\x1b\\xa9\\x1e\\x17\\x07\\x98\\xff\\x00\\x1d\\xab\\xab\\x0c\\xd5t\\xe7\\xcf\\x8d\\xa9Y\\x14\\xb5d\\xfa\\n\\x14\\xee\\xd1mr\\xeb5\\x10\\xd8\\xe1\\xe73\\xb3#\\x83\\x8ey\\xab\\x0f\\xea\\x15\\xd0+hRq\\x8f\\xcd\\x8e)\\xed\\xd34\\xd2*f\\x89)*PH\\x19$\\xe0T\\x9d\\xd2\\xcd*\\xdb\\xcc\\x806\\xe7\\x00\\xd3kn\\xdf\\xaek>|R}(t\\x9b0\\xc0\\xdc\\xee\\x0fqB\\x9f\\x16\\x96I;\\xba\\xd0\\xa3S-\\x99[I)9\\x04\\x82;\\xd3\\xe8\\xf7\\x89\\xf1\\x82C2V\\x90\\x93\\x90)\\x85\\n\\x9b,\\x96\\xfdc\\xba\\x9e\\xb2\\x95\\xd74\\xb6\\xf5E\\xe1\\xb3\\xe1\\x98\\xbf\\xbdCP\\xa2\\xc5H\\x9e\\x1a\\xba\\xf2?\\xf6\\x89\\xe7\\xae+\\xa2u\\xa5\\xe5$\\x94\\xbe\\x07\\xa6*\\xbbB\\x8bb\\xd5\\x13R.R\\xee\\xcf\\x89\\x13\\x1d\\xde\\xb4\\xa7h\\xcfa\\\\\\x1dNA\\x1e\\x1f3\\xe7\\\\\\x9a%\\xb8\\xc3\\x019WBi\\tak\\xf1)D\\x0fZ\\xde\\xe9\\x08\\xe5\\x8d\\xebH\\xeb\\xcfjz\\xd3-6\\xb5\\xad\\xec)I<\\'\\xb0\\xa2mL\\xb4\\xaf\\x00\\x1e\\x01\\x92\\xbf3M\\x14\\xf1(P=T\\xac\\x9a^z2\\xc9\\xa45#\\xba\\x7fTC\\xba\\';\\x10\\xad\\x8f$~\\xd3J\\xe1C\\xff\\x00\\xbe\\xe0V\\x85\\xaf52m\\x17\\xe6Y\\x88\\xd9y\\xb9-%\\xd6\\xb0\\xa0RB\\x8fl\\xfa\\xff\\x00z\\xc5\\xc2\\xd5\\x8e\\x0e\\x07\\xa5H=|\\x98\\xec8\\x91T\\xe0\\xf9q\\x93\\xb5\\'\\x1e%$+pI>@\\xf6\\xff\\x00\\x15\\x9eMd\\x8b\\x84\\x9c_\\rr<MK9\\xd0\\xf2c\\xa6\\n[8_\\xd58\\x95\\x04\\xfa\\xa5)\\xce~\\xf8\\xa8\\x1dS\\xad\\xafV\\x1b\\xa9\\x80\\xe1\\x87=\\xb0\\x90\\xb4\\xb8\\xeclg\\x928\\x198\\xe4\\x1a\\xbci\\xcb\\xdb\\x17\\x1bse\\xd4-.\\xb8\\xc9\\x0bZS\\x90J{g\\xbf\\xbde\\xbf\\x15\\x9b\\xc5\\xe23\\xe0\\xa4\\x87\\x1a! \\x0e\\x80(\\x9f\\xe7\\xcd\\'\\x8e)p?\\xd6M\\xd3:E\\xd5\\xd7\\x05\\x8f\\xad\\xb8\\xef\\x90\\x97V~QH\\x18J\\xbb\\x8cv\\xc7\\xf6\\xab[qa\\xea\\xdb\\x1d\\xcd\\x85!H1\\xe2-\\xd0\\xa5\\x8e[xr\\x82=\\xc0P\\xf65\\x98Yn\\x91\\xe21\"4\\xd6\\x03\\xcc\\xb9\\x85\\xa3#;\\x16\\x0f8\\xf2\\xc8\\xfe\\xc3\\xae*\\xfb\\x17QE\\x81\\xa3\\xee\\x92\\xa2\\x85\\x97&#\\xe4\\x8c\\x9c\\xed8\\xda\\x06q\\xfcF\\xa60Wf\\x8f-\\xc1\\xa7\\xe9\\x9d\\xd8\\xeeOZ.\\x0c\\xcdc\\x95# \\x8f0G5mW\\xc4w\\x94\\x08\\xfau\\x01\\x82:\\x8a\\xa1\\x03\\xc5\\x05\\x0cU\\xdf8b\\xe2\\x99/|\\xbd\\xbdw\\r\\x87\\x06\\xd4\\xa4\\x93\\x8f3QHR\\x9bXZz\\x83\\x91II\\xa5P\\x92e/\\tt\\xdep\\x906\\x9e\\x94*#\\x1e\\xb4)\\xf4(\\xe7B\\x94\\xaaMCB\\x16\\xda\\x0b\\x8b\\tOSSq-#\\xe9\\xfez\\xd9[\\xa9\\xfe\\x11QP?\\xee\\x07\\xb1\\xab\\xfe\\x82uN\\xc7}\\x970\\xa4o\\xee)\\xa4L\\x9d\"\\xb4\\xd48\\xcf\\x9d\\x8e@y\\xa2\\x7f*\\xb6\\xd4M\\xc2\\t\\x88\\xe7\\x84\\xe5\\x19\\xeb[\\xa5\\xde\\x1cvJ\\n\\x1a@\\xc2\\x07j\\xc8/\\xc7{\\x92I\\x03\\x85\\x1c\\x01\\xdb\\x9aL\\x98\\xca\\xd9\\x10\\x97\\x92\\x96\\xcf\\x1e.\\x89\\xf4\\xa48\\xf9Y\\x1e@q\\\\(\\xaa\\xb7e\\xd0\\xa2\\xa3\\x8cv\\xa2\\xf7\\xa2\\xa1Sv1eg\\xc5\\x8e\\x8a\\xebI\\xefEF\\x9f\\xcc)\\x01\\xaah\\x17\\x00\\xb4\\xa7\\x0f8\\xd2\\xde\\xe5<xV\\xa4\\xe58\\xe7\\xce\\xb9|K\\xb1\\xba\\xce\\x9d\\x89;\\x82\\x96\\xdf\\xc0\\xcf\\xe6\\xd8\\xbc\\x9c\\xfbd\\x0e=j\\xcb\\xf0\\x96#2\\xb4PnB\\x03\\x89L\\xa7\\x16\\x9d\\xdc\\xed9\\x1d?\\x95J|Ra\\xb5\\xe8Y\\xc5I\\xe5-\\xa1c\\xdfx\\xad_\\xeaO\\xf4\\xf3\\xb5t\\x0f\\xba\\x19S!j\\r\\xa8\\xe5H\\xcf\\x04\\xf9\\xe2\\xb9\\xd0\\xac\\x8a\\x17\\xb7)\\xc8\\xed\\xd6\\x93\\xda\\x8a\\x85\\x00;M\\xbeZ\\xb2R\\xc2\\xc8\\t\\xdcH\\x1d\\xab\\xa1\\xb6\\xcdN7Etd\\xe0x{\\xd6\\xb1\\xa4\\xa2\\xb2\\xe5\\x81\\x85-\\x00\\xa9{\\x12\\xa3\\x8e\\xd8\\x15.\\xcb-8\\xfb\\xc1M#\\r\\xaf\\xc3\\xe1\\xe9\\x8a\\xb5\\xc2\\x14\\xfaa\\x8a\\x88\\xfaI\\x05\\x95\\x82\\x0e\\x0f\\x14+l\\x16\\x0bs\\xa3\\xe6.8*W\\x88\\x9fSEN\\xcb\\xd9\\x1f\\xff\\xd9'"
      ]
     },
     "execution_count": 32,
     "metadata": {},
     "output_type": "execute_result"
    }
   ],
   "source": [
    "# binary format of images\n",
    "requests.get(\"https://encrypted-tbn0.gstatic.com/images?q=tbn:ANd9GcT5oidAhBRwVoSwRSt8ijQyURjAWl5wtAxff0GjOZMii_0ImjVIOQ9Lfd2_Gg&s\").content"
   ]
  },
  {
   "cell_type": "code",
   "execution_count": 24,
   "id": "11c28329-1b4a-4aee-b9df-bbdc92f9bdf5",
   "metadata": {
    "scrolled": true
   },
   "outputs": [
    {
     "name": "stdout",
     "output_type": "stream",
     "text": [
      "0\n",
      "1\n",
      "2\n",
      "3\n",
      "4\n",
      "5\n",
      "6\n",
      "7\n",
      "8\n",
      "9\n",
      "10\n",
      "11\n",
      "12\n",
      "13\n",
      "14\n",
      "15\n",
      "16\n",
      "17\n",
      "18\n",
      "19\n"
     ]
    }
   ],
   "source": [
    "for i in image_tags:\n",
    "    print(image_tags.index(i))"
   ]
  },
  {
   "cell_type": "code",
   "execution_count": 50,
   "id": "cad81b81-5c69-4c68-9f2a-cddada3be81b",
   "metadata": {
    "scrolled": true
   },
   "outputs": [],
   "source": [
    "for i in image_tags:\n",
    "    image_url = i[\"src\"]\n",
    "    image_data=requests.get(image_url).content\n",
    "    with open(os.path.join(save_dir, f\"{query}_{image_tags.index(i)}.jpg\"),\"wb\") as f:\n",
    "        f.write(image_data)"
   ]
  },
  {
   "cell_type": "code",
   "execution_count": null,
   "id": "2f1f4087-1af9-48b0-ba6b-51ce0b8c3a42",
   "metadata": {},
   "outputs": [],
   "source": []
  },
  {
   "cell_type": "code",
   "execution_count": null,
   "id": "3b6753db-dcdc-4f6d-a070-d0c047417650",
   "metadata": {},
   "outputs": [],
   "source": []
  },
  {
   "cell_type": "code",
   "execution_count": null,
   "id": "d7e02985-bcc4-48b1-b047-a3c63ce9782c",
   "metadata": {},
   "outputs": [],
   "source": []
  },
  {
   "cell_type": "code",
   "execution_count": null,
   "id": "748d8734-3dac-4228-9792-b8d0f8927a7c",
   "metadata": {},
   "outputs": [],
   "source": []
  },
  {
   "cell_type": "code",
   "execution_count": null,
   "id": "93b3ad19-907a-463c-a32c-028c27d1ac38",
   "metadata": {},
   "outputs": [],
   "source": []
  }
 ],
 "metadata": {
  "kernelspec": {
   "display_name": "Python 3 (ipykernel)",
   "language": "python",
   "name": "python3"
  },
  "language_info": {
   "codemirror_mode": {
    "name": "ipython",
    "version": 3
   },
   "file_extension": ".py",
   "mimetype": "text/x-python",
   "name": "python",
   "nbconvert_exporter": "python",
   "pygments_lexer": "ipython3",
   "version": "3.8.19"
  }
 },
 "nbformat": 4,
 "nbformat_minor": 5
}
