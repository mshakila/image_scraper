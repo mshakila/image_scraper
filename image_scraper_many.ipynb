{
 "cells": [
  {
   "cell_type": "code",
   "execution_count": null,
   "id": "03676d34-300a-47cc-8523-008af69b3e03",
   "metadata": {},
   "outputs": [],
   "source": [
    "import requests\n",
    "import logging\n",
    "import os\n",
    "from bs4 import BeautifulSoup  # to scrap from html or xml pages\n",
    "from urllib.request import urlopen # to request to server"
   ]
  },
  {
   "cell_type": "code",
   "execution_count": null,
   "id": "f0f0c4b3-1021-48a8-8bbb-1a29d638f36f",
   "metadata": {},
   "outputs": [],
   "source": [
    "save_dir = \"images_many/\"\n",
    "if not os.path.exists(save_dir):\n",
    "    os.makedirs(save_dir)"
   ]
  },
  {
   "cell_type": "code",
   "execution_count": 1,
   "id": "8ad9e7eb-49f6-441d-9ab9-c39a34ef91f4",
   "metadata": {},
   "outputs": [
    {
     "name": "stdout",
     "output_type": "stream",
     "text": [
      "Scraping images from: https://www.google.com/search?q=mother+teresa&tbm=isch&start=0\n",
      "Scraping images from: https://www.google.com/search?q=mother+teresa&tbm=isch&start=20\n",
      "Scraping images from: https://www.google.com/search?q=mother+teresa&tbm=isch&start=40\n",
      "Scraping images from: https://www.google.com/search?q=mother+teresa&tbm=isch&start=60\n",
      "Scraping images from: https://www.google.com/search?q=mother+teresa&tbm=isch&start=80\n"
     ]
    }
   ],
   "source": [
    "import requests\n",
    "import logging\n",
    "import os\n",
    "from bs4 import BeautifulSoup\n",
    "\n",
    "# Directory to save images\n",
    "save_dir = \"images_many/\"\n",
    "if not os.path.exists(save_dir):\n",
    "    os.makedirs(save_dir)\n",
    "\n",
    "# Function to scrape images from a single page\n",
    "def scrape_images_from_page(url, query, page_number):\n",
    "    response = requests.get(url)\n",
    "    if response.status_code != 200:\n",
    "        logging.error(f\"Failed to retrieve page {page_number}\")\n",
    "        return []\n",
    "\n",
    "    soup = BeautifulSoup(response.content, \"html.parser\")\n",
    "    image_tags = soup.find_all(\"img\")\n",
    "    \n",
    "    # Remove the first image if it is irrelevant (e.g., Google logo)\n",
    "    if image_tags:\n",
    "        del image_tags[0]\n",
    "\n",
    "    images = []\n",
    "    for i in image_tags:\n",
    "        image_url = i.get(\"src\")\n",
    "        if image_url and image_url.startswith(\"http\"):\n",
    "            images.append(image_url)\n",
    "    \n",
    "    return images\n",
    "\n",
    "# Function to save images\n",
    "def save_images(images, query, page_number):\n",
    "    for idx, image_url in enumerate(images):\n",
    "        try:\n",
    "            image_data = requests.get(image_url).content\n",
    "            image_filename = os.path.join(save_dir, f\"{query}_page{page_number}_{idx}.jpg\")\n",
    "            with open(image_filename, \"wb\") as f:\n",
    "                f.write(image_data)\n",
    "        except Exception as e:\n",
    "            logging.error(f\"Failed to save image {image_url}: {e}\")\n",
    "\n",
    "def main():\n",
    "    query = \"mother teresa\"\n",
    "    base_url = \"https://www.google.com/search\"\n",
    "    params = {\n",
    "        \"q\": query,\n",
    "        \"tbm\": \"isch\",  # tbm=isch for Google Images\n",
    "        \"start\": 0\n",
    "    }\n",
    "    total_pages = 5\n",
    "    images_per_page = 20  # Google Images typically shows 20 images per page\n",
    "\n",
    "    for page_number in range(total_pages):\n",
    "        params[\"start\"] = page_number * images_per_page\n",
    "        url = requests.Request('GET', base_url, params=params).prepare().url\n",
    "        print(f\"Scraping images from: {url}\")\n",
    "\n",
    "        images = scrape_images_from_page(url, query, page_number)\n",
    "        save_images(images, query, page_number)\n",
    "\n",
    "if __name__ == \"__main__\":\n",
    "    main()\n"
   ]
  },
  {
   "cell_type": "code",
   "execution_count": null,
   "id": "3948d9a2-93d5-4ad1-89ec-54e8eaeb81c5",
   "metadata": {},
   "outputs": [],
   "source": []
  },
  {
   "cell_type": "code",
   "execution_count": null,
   "id": "c2761243-4b65-44ad-8fbc-dbe771d343db",
   "metadata": {},
   "outputs": [],
   "source": []
  }
 ],
 "metadata": {
  "kernelspec": {
   "display_name": "Python 3 (ipykernel)",
   "language": "python",
   "name": "python3"
  },
  "language_info": {
   "codemirror_mode": {
    "name": "ipython",
    "version": 3
   },
   "file_extension": ".py",
   "mimetype": "text/x-python",
   "name": "python",
   "nbconvert_exporter": "python",
   "pygments_lexer": "ipython3",
   "version": "3.8.19"
  }
 },
 "nbformat": 4,
 "nbformat_minor": 5
}
